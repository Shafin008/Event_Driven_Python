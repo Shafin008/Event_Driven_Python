{
 "cells": [
  {
   "cell_type": "markdown",
   "id": "31d50e8d-213d-419d-8189-d9ac28f0c107",
   "metadata": {},
   "source": [
    "**There are 5280 feet in a mile. Write a Python statement that calculates and prints \n",
    "the number of feet in 13 miles.**"
   ]
  },
  {
   "cell_type": "code",
   "execution_count": 4,
   "id": "5d983e2d-fac0-4fae-a289-62c8226dac27",
   "metadata": {},
   "outputs": [
    {
     "name": "stdout",
     "output_type": "stream",
     "text": [
      "68640\n"
     ]
    }
   ],
   "source": [
    "# Compute the number of feet corresponding to a number of miles.\n",
    "\n",
    "###################################################\n",
    "# Miles to feet conversion formula\n",
    "# Student should enter statement on the next line.\n",
    "mile = 13\n",
    "mile_to_feet = 13 * 5280\n",
    "\n",
    "print(mile_to_feet)\n",
    "\n",
    "###################################################\n",
    "# Expected output\n",
    "# Student should look at the following comments and compare to printed output.\n",
    "\n",
    "#68640"
   ]
  },
  {
   "cell_type": "code",
   "execution_count": null,
   "id": "cc3bfb55-e062-4341-9b13-34e94e0fa9b2",
   "metadata": {},
   "outputs": [],
   "source": []
  },
  {
   "cell_type": "markdown",
   "id": "a1a43a9c-566a-4853-bca4-53002e9e4ba9",
   "metadata": {},
   "source": [
    "**Write a Python statement that calculates and prints the number of seconds in 7 hours, \n",
    "21 minutes and 37 seconds.**"
   ]
  },
  {
   "cell_type": "code",
   "execution_count": 5,
   "id": "e7b0e330-1d15-4454-bea2-23415ac07a70",
   "metadata": {},
   "outputs": [
    {
     "name": "stdout",
     "output_type": "stream",
     "text": [
      "26497\n"
     ]
    }
   ],
   "source": [
    "# Compute the number of seconds in a given number of hours, minutes, and seconds.\n",
    "\n",
    "###################################################\n",
    "# Hours, minutes, and seconds to seconds conversion formula\n",
    "# Student should enter statement on the next line.\n",
    "second = 1\n",
    "minute = 60 * second\n",
    "hour = 60 * minute\n",
    "\n",
    "num_seconds = 7 * hour + 21 * minute + 37 * second\n",
    "print(num_seconds)\n",
    "\n",
    "###################################################\n",
    "# Expected output\n",
    "# Student should look at the following comments and compare to printed output.\n",
    "\n",
    "#26497"
   ]
  },
  {
   "cell_type": "code",
   "execution_count": null,
   "id": "61cc9dad-bd7e-4a78-a86c-e2b555e80199",
   "metadata": {},
   "outputs": [],
   "source": []
  },
  {
   "cell_type": "markdown",
   "id": "326b617c-f478-45da-aca8-76578e233027",
   "metadata": {},
   "source": [
    "**The perimeter of a rectangle is 2w+2h, where w and h are the lengths of its sides. Write a Python statement that calculates and prints the length in inches of the perimeter of a rectangle with sides of length 4 and 7 inches.**"
   ]
  },
  {
   "cell_type": "code",
   "execution_count": 6,
   "id": "5c5de5ee-9f84-40bc-9a67-001723f638a5",
   "metadata": {},
   "outputs": [
    {
     "name": "stdout",
     "output_type": "stream",
     "text": [
      "22\n"
     ]
    }
   ],
   "source": [
    "# Compute the length of a rectangle's perimeter, given its width and height.\n",
    "\n",
    "###################################################\n",
    "# Rectangle perimeter formula\n",
    "# Student should enter statement on the next line.\n",
    "w = 4\n",
    "h = 7\n",
    "perimeter = 2 * w + 2 * h\n",
    "print(perimeter)\n",
    "\n",
    "\n",
    "###################################################\n",
    "# Expected output\n",
    "# Student should look at the following comments and compare to printed output.\n",
    "\n",
    "#22"
   ]
  },
  {
   "cell_type": "code",
   "execution_count": null,
   "id": "4065c000-370f-4f3c-a6be-4d9279ce10de",
   "metadata": {},
   "outputs": [],
   "source": []
  },
  {
   "cell_type": "markdown",
   "id": "9ae05abc-d0c3-4725-a968-2d763a4b2cdf",
   "metadata": {},
   "source": [
    "**The area of a rectangle is wh, where w and h are the lengths of its sides. Note that the multiplication operation is not shown explicitly in this formula. This is standard practice in mathematics, but not in programming. Write a Python statement that calculates and prints the area in square inches of a rectangle with sides of length 4 and 7 inches**"
   ]
  },
  {
   "cell_type": "code",
   "execution_count": 7,
   "id": "e3a877d9-70d7-490b-b13e-7b2a50a1009f",
   "metadata": {},
   "outputs": [
    {
     "name": "stdout",
     "output_type": "stream",
     "text": [
      "28\n"
     ]
    }
   ],
   "source": [
    "# Compute the area of a rectangle, given its width and height.\n",
    "\n",
    "###################################################\n",
    "# Rectangle area formula\n",
    "# Student should enter statement on the next line.\n",
    "w = 4\n",
    "h = 7\n",
    "\n",
    "area = w * h\n",
    "print(area)\n",
    "\n",
    "###################################################\n",
    "# Expected output\n",
    "# Student should look at the following comments and compare to printed output.\n",
    "\n",
    "#28"
   ]
  },
  {
   "cell_type": "code",
   "execution_count": null,
   "id": "238b8993-e185-4041-bc64-2ea8735375dc",
   "metadata": {},
   "outputs": [],
   "source": []
  },
  {
   "cell_type": "markdown",
   "id": "edace190-6d93-4b06-ab04-5f96d58408fb",
   "metadata": {},
   "source": [
    "**The circumference of a circle is 2πr where r is the radius of the circle. Write a Python statement that calculates and prints the circumference in inches of a circle whose radius is 8 inches. Assume that the constant π=3.14**"
   ]
  },
  {
   "cell_type": "code",
   "execution_count": 8,
   "id": "7d0d54d5-3b8a-4916-a128-d20a7d67ef04",
   "metadata": {},
   "outputs": [
    {
     "name": "stdout",
     "output_type": "stream",
     "text": [
      "50.24\n"
     ]
    }
   ],
   "source": [
    "# Compute the circumference of a circle, given the length of its radius.\n",
    "\n",
    "###################################################\n",
    "# Circle circumference formula\n",
    "# Student should enter statement on the next line.\n",
    "r = 8\n",
    "pi = 3.14\n",
    "circumference = 2 * pi * r\n",
    "print(circumference)\n",
    "\n",
    "###################################################\n",
    "# Expected output\n",
    "# Student should look at the following comments and compare to printed output.\n",
    "\n",
    "#50.24"
   ]
  },
  {
   "cell_type": "code",
   "execution_count": null,
   "id": "a8332e93-3356-4cfc-8090-a315e2f36a41",
   "metadata": {},
   "outputs": [],
   "source": []
  },
  {
   "cell_type": "markdown",
   "id": "8b21a32e-8192-407b-b848-fd3e50aed4ac",
   "metadata": {},
   "source": [
    "**The area of a circle is πr^2 where r is the radius of the circle. (The raised 2 in the formula is an exponent.) Write a Python statement that calculates and prints the area in square inches of a circle whose radius is 8 inches. Assume that the constant π=3.14**"
   ]
  },
  {
   "cell_type": "code",
   "execution_count": 9,
   "id": "efbc49ee-9ef4-4557-99bc-9ec70c1b48b3",
   "metadata": {},
   "outputs": [
    {
     "name": "stdout",
     "output_type": "stream",
     "text": [
      "200.96\n"
     ]
    }
   ],
   "source": [
    "# Compute the area of a circle, given the length of its radius.\n",
    "\n",
    "###################################################\n",
    "# Circle area formula\n",
    "# Student should enter statement on the next line.\n",
    "r = 8\n",
    "pi = 3.14\n",
    "area = pi * r**2\n",
    "print(area)\n",
    "###################################################\n",
    "# Expected output\n",
    "# Student should look at the following comments and compare to printed output.\n",
    "\n",
    "#200.96"
   ]
  },
  {
   "cell_type": "code",
   "execution_count": null,
   "id": "7f935b3a-c853-4270-b11b-c21ed5459dce",
   "metadata": {},
   "outputs": [],
   "source": []
  },
  {
   "cell_type": "markdown",
   "id": "a041be9e-0442-4c46-b4a7-e75c3fc5638b",
   "metadata": {},
   "source": [
    "**Given p dollars, the future value of this money when compounded yearly at a rate of r percent interest for y years is p(1+0.01r)^y. Write a Python statement that calculates and prints the value of 1000 dollars compounded at 7 percent interest for 10 years.**"
   ]
  },
  {
   "cell_type": "code",
   "execution_count": 11,
   "id": "564238f7-2cc2-4787-be80-1354d8ee1b8c",
   "metadata": {},
   "outputs": [
    {
     "name": "stdout",
     "output_type": "stream",
     "text": [
      "1967.1513572895665\n"
     ]
    }
   ],
   "source": [
    "# Compute the future value of a given present value, annual rate, and number of years.\n",
    "\n",
    "###################################################\n",
    "# Future value formula\n",
    "# Student should enter statement on the next line.\n",
    "p = 1000\n",
    "r = 7\n",
    "y = 10\n",
    "\n",
    "future_value = p * (1 + 0.01 * r) ** y\n",
    "print(future_value)\n",
    "\n",
    "###################################################\n",
    "# Expected output\n",
    "# Student should look at the following comments and compare to printed output.\n",
    "\n",
    "#1967.15135729"
   ]
  },
  {
   "cell_type": "code",
   "execution_count": null,
   "id": "7709ca45-ed68-430e-807d-75d48776719a",
   "metadata": {},
   "outputs": [],
   "source": []
  },
  {
   "cell_type": "markdown",
   "id": "c208cc02-a79b-4c44-9a3b-76bc0ce90536",
   "metadata": {},
   "source": [
    "**Write a single Python statement that combines the three strings \"My name is\", \"Joe\" and \"Warren\" (plus a couple of other small strings) into one larger string \"My name is Joe Warren.\"**"
   ]
  },
  {
   "cell_type": "code",
   "execution_count": 12,
   "id": "0b2492f7-f22e-4671-9dc0-d326a42e0998",
   "metadata": {},
   "outputs": [
    {
     "name": "stdout",
     "output_type": "stream",
     "text": [
      "My name is Joe Warren.\n"
     ]
    }
   ],
   "source": [
    "# Compute a name tag, given the first and last name.\n",
    "\n",
    "###################################################\n",
    "# Name tag formula\n",
    "# Student should enter statement on the next line.\n",
    "name = \"My name is\" + \" \" + \"Joe\" + \" \" + \"Warren.\"\n",
    "print(name)\n",
    "###################################################\n",
    "# Expected output\n",
    "# Student should look at the following comments and compare to printed output.\n",
    "\n",
    "#My name is Joe Warren."
   ]
  },
  {
   "cell_type": "code",
   "execution_count": null,
   "id": "1b6c0a42-db3f-4dd3-a870-0691f8e603b0",
   "metadata": {},
   "outputs": [],
   "source": []
  },
  {
   "cell_type": "markdown",
   "id": "ae18cc34-76cc-4ca0-8b08-a69d4daa4e62",
   "metadata": {},
   "source": [
    "**Write a Python expression that combines the string \"Joe Warren is 52 years old.\" from the string \"Joe Warren\" and the number 52 and then prints the result (Hint: Use the function str to convert the number into a string.)**"
   ]
  },
  {
   "cell_type": "code",
   "execution_count": 14,
   "id": "779c129a-2d6d-4cbd-acf7-8550ab68efe2",
   "metadata": {},
   "outputs": [
    {
     "name": "stdout",
     "output_type": "stream",
     "text": [
      "Joe Warren is 52 years old.\n"
     ]
    }
   ],
   "source": [
    "# Compute the statement about a person's name and age, given the person's name and age.\n",
    "\n",
    "###################################################\n",
    "# Name and age formula\n",
    "# Student should enter statement on the next line.\n",
    "name_age = \"Joe\" + \" \" + \"Warren\" + \" \" + \"is\" + \" \" + str(52) + \" \" + \"years\" + \" \" + \"old.\"\n",
    "print(name_age)\n",
    "###################################################\n",
    "# Expected output\n",
    "# Student should look at the following comments and compare to printed output.\n",
    "\n",
    "#Joe Warren is 52 years old.\n"
   ]
  },
  {
   "cell_type": "code",
   "execution_count": null,
   "id": "ab8a8f3b-1af7-4849-b6f6-4a8b25f8ab9c",
   "metadata": {},
   "outputs": [],
   "source": []
  },
  {
   "cell_type": "code",
   "execution_count": 16,
   "id": "aec463fb-e1a7-42e2-9370-9524e0378196",
   "metadata": {},
   "outputs": [
    {
     "name": "stdout",
     "output_type": "stream",
     "text": [
      "5.0\n"
     ]
    }
   ],
   "source": [
    "# Compute the distance between the points (x0, y0) and (x1, y1).\n",
    "\n",
    "###################################################\n",
    "# Distance formula\n",
    "# Student should enter statement on the next line.\n",
    "\n",
    "# Hint: You need to use the power operation ** .\n",
    "x0,y0,x1,y1 = 2,2,5,6\n",
    "distance = ((x0-x1)**2 + (y0-y1)**2)**0.5\n",
    "print(distance)\n",
    "###################################################\n",
    "# Expected output\n",
    "# Student should look at the following comments and compare to printed output.\n",
    "\n",
    "#5.0"
   ]
  },
  {
   "cell_type": "code",
   "execution_count": null,
   "id": "73a6a4b9-6b72-4a5f-81cd-355e1d76a5de",
   "metadata": {},
   "outputs": [],
   "source": []
  },
  {
   "cell_type": "code",
   "execution_count": 20,
   "id": "1474ef19-0f69-4a59-b1a6-31bc5fa86fde",
   "metadata": {},
   "outputs": [
    {
     "name": "stdout",
     "output_type": "stream",
     "text": [
      "A triangle with vertices (0,0), (3,4), and (1,1) has an area of 0.5000000000000133.\n",
      "A triangle with vertices (-2,4), (1,6), and (2,1) has an area of 8.5.\n",
      "A triangle with vertices (10,0), (0,0), and (0,10) has an area of 50.0.\n"
     ]
    }
   ],
   "source": [
    "# Compute the area of a triangle (using Heron's formula),\n",
    "# given its side lengths.\n",
    "\n",
    "\n",
    "###################################################\n",
    "# Test output\n",
    "\n",
    "# Test 1 \n",
    "x0, y0 = 0, 0\n",
    "x1, y1 = 3, 4\n",
    "x2, y2 = 1, 1\n",
    "\n",
    "a = ((x0-x1)**2 + (y0-y1)**2)**0.5\n",
    "b = ((x1-x2)**2 + (y1-y2)**2)**0.5\n",
    "c = ((x0-x2)**2 + (y0-y2)**2)**0.5\n",
    "\n",
    "s = 0.5 * (a + b + c)\n",
    "\n",
    "area = (s * (s-a) * (s-b) * (s-c))**0.5\n",
    "\n",
    "print(\"A triangle with vertices (\" + str(x0) + \",\" + str(y0) + \"),\", \\\n",
    "\"(\" + str(x1) + \",\" + str(y1) + \"), and\", \\\n",
    "\"(\" + str(x2) + \",\" + str(y2) + \") has an area of \" + str(area) + \".\")\n",
    "\n",
    "# Test 2 \n",
    "x0, y0 = -2, 4\n",
    "x1, y1 = 1, 6\n",
    "x2, y2 = 2, 1\n",
    "\n",
    "a = ((x0-x1)**2 + (y0-y1)**2)**0.5\n",
    "b = ((x1-x2)**2 + (y1-y2)**2)**0.5\n",
    "c = ((x0-x2)**2 + (y0-y2)**2)**0.5\n",
    "\n",
    "s = 0.5 * (a + b + c)\n",
    "\n",
    "area = (s * (s-a) * (s-b) * (s-c))**0.5\n",
    "\n",
    "print(\"A triangle with vertices (\" + str(x0) + \",\" + str(y0) + \"),\", \\\n",
    "\"(\" + str(x1) + \",\" + str(y1) + \"), and\", \\\n",
    "\"(\" + str(x2) + \",\" + str(y2) + \") has an area of \" + str(area) + \".\")\n",
    "\n",
    "# Test 3 \n",
    "x0, y0 = 10, 0\n",
    "x1, y1 = 0, 0\n",
    "x2, y2 = 0, 10\n",
    "\n",
    "a = ((x0-x1)**2 + (y0-y1)**2)**0.5\n",
    "b = ((x1-x2)**2 + (y1-y2)**2)**0.5\n",
    "c = ((x0-x2)**2 + (y0-y2)**2)**0.5\n",
    "\n",
    "s = 0.5 * (a + b + c)\n",
    "\n",
    "area = (s * (s-a) * (s-b) * (s-c))**0.5\n",
    "\n",
    "print(\"A triangle with vertices (\" + str(x0) + \",\" + str(y0) + \"),\", \\\n",
    "\"(\" + str(x1) + \",\" + str(y1) + \"), and\", \\\n",
    "\"(\" + str(x2) + \",\" + str(y2) + \") has an area of \" + str(area) + \".\")\n",
    "\n",
    "\n",
    "# Expected output\n",
    "# Student should look at the following comments and compare to printed output.\n",
    "\n",
    "# Test 1 output:\n",
    "#A triangle with vertices (0,0), (3,4), and (1,1) has an area of 0.5.\n",
    "\n",
    "# Test 2 output:\n",
    "#A triangle with vertices (-2,4), (1,6), and (2,1) has an area of 8.5.\n",
    "\n",
    "# Test 3 output:\n",
    "#A triangle with vertices (10,0), (0,0), and (0,10) has an area of 50."
   ]
  },
  {
   "cell_type": "code",
   "execution_count": null,
   "id": "fbc6a8d1-4685-4763-94e5-5ee11730493f",
   "metadata": {},
   "outputs": [],
   "source": []
  },
  {
   "cell_type": "code",
   "execution_count": 21,
   "id": "9ba01e0e-18ff-4e79-941f-662373b8d9af",
   "metadata": {},
   "outputs": [
    {
     "data": {
      "text/plain": [
       "-2"
      ]
     },
     "execution_count": 21,
     "metadata": {},
     "output_type": "execute_result"
    }
   ],
   "source": [
    "-7//4"
   ]
  },
  {
   "cell_type": "code",
   "execution_count": 22,
   "id": "f1c35516-f680-4042-a1b0-df4fb00356f0",
   "metadata": {},
   "outputs": [],
   "source": [
    "import math"
   ]
  },
  {
   "cell_type": "code",
   "execution_count": 28,
   "id": "a41e15e2-a0e4-41aa-a5d8-d39b055d9489",
   "metadata": {},
   "outputs": [
    {
     "data": {
      "text/plain": [
       "4"
      ]
     },
     "execution_count": 28,
     "metadata": {},
     "output_type": "execute_result"
    }
   ],
   "source": [
    "27//6"
   ]
  },
  {
   "cell_type": "code",
   "execution_count": 29,
   "id": "b976a96f-07de-43e0-b11c-9c09ffe8b0f3",
   "metadata": {},
   "outputs": [
    {
     "data": {
      "text/plain": [
       "(4, 5)"
      ]
     },
     "execution_count": 29,
     "metadata": {},
     "output_type": "execute_result"
    }
   ],
   "source": [
    "math.floor(27/6), math.ceil(27/6)"
   ]
  },
  {
   "cell_type": "code",
   "execution_count": 30,
   "id": "2d87aa6f-85a2-41cf-b904-8df28514c39e",
   "metadata": {},
   "outputs": [
    {
     "data": {
      "text/plain": [
       "797"
      ]
     },
     "execution_count": 30,
     "metadata": {},
     "output_type": "execute_result"
    }
   ],
   "source": [
    "-3%800"
   ]
  },
  {
   "cell_type": "code",
   "execution_count": 31,
   "id": "cba0b454-1c2f-4e3e-b917-a2d55feccd8b",
   "metadata": {},
   "outputs": [],
   "source": [
    "def a_modulo_b(a,b):\n",
    "    return a - (b * math.floor(a/b))"
   ]
  },
  {
   "cell_type": "code",
   "execution_count": 33,
   "id": "b70673d3-944a-4f6d-ba7c-fa40be57e53d",
   "metadata": {},
   "outputs": [
    {
     "data": {
      "text/plain": [
       "2"
      ]
     },
     "execution_count": 33,
     "metadata": {},
     "output_type": "execute_result"
    }
   ],
   "source": [
    "a_modulo_b(802,800)"
   ]
  },
  {
   "cell_type": "code",
   "execution_count": 34,
   "id": "48dfb25d-5d87-4fee-ae6c-9e2e5d851fd6",
   "metadata": {},
   "outputs": [
    {
     "data": {
      "text/plain": [
       "797"
      ]
     },
     "execution_count": 34,
     "metadata": {},
     "output_type": "execute_result"
    }
   ],
   "source": [
    "a_modulo_b(-3,800)"
   ]
  },
  {
   "cell_type": "code",
   "execution_count": 43,
   "id": "2018e9e3-0130-47be-8978-2b556702b8aa",
   "metadata": {},
   "outputs": [
    {
     "data": {
      "text/plain": [
       "797"
      ]
     },
     "execution_count": 43,
     "metadata": {},
     "output_type": "execute_result"
    }
   ],
   "source": []
  },
  {
   "cell_type": "code",
   "execution_count": null,
   "id": "90cfe75a-f476-4734-bf94-3bf811f1015d",
   "metadata": {},
   "outputs": [],
   "source": []
  }
 ],
 "metadata": {
  "kernelspec": {
   "display_name": "Python 3 (ipykernel)",
   "language": "python",
   "name": "python3"
  },
  "language_info": {
   "codemirror_mode": {
    "name": "ipython",
    "version": 3
   },
   "file_extension": ".py",
   "mimetype": "text/x-python",
   "name": "python",
   "nbconvert_exporter": "python",
   "pygments_lexer": "ipython3",
   "version": "3.12.9"
  }
 },
 "nbformat": 4,
 "nbformat_minor": 5
}
