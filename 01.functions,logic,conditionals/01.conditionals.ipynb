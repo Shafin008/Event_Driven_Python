{
 "cells": [
  {
   "cell_type": "code",
   "execution_count": 1,
   "id": "1b79863a-06e4-4ebc-bcb3-b5ddc317c7c8",
   "metadata": {},
   "outputs": [
    {
     "ename": "TypeError",
     "evalue": "'x' is an invalid keyword argument for print()",
     "output_type": "error",
     "traceback": [
      "\u001b[0;31m---------------------------------------------------------------------------\u001b[0m",
      "\u001b[0;31mTypeError\u001b[0m                                 Traceback (most recent call last)",
      "Cell \u001b[0;32mIn[1], line 1\u001b[0m\n\u001b[0;32m----> 1\u001b[0m \u001b[38;5;28mprint\u001b[39m(x\u001b[38;5;241m=\u001b[39m\u001b[38;5;241m3\u001b[39m)\n",
      "\u001b[0;31mTypeError\u001b[0m: 'x' is an invalid keyword argument for print()"
     ]
    }
   ],
   "source": [
    "print(x=3)"
   ]
  },
  {
   "cell_type": "code",
   "execution_count": 2,
   "id": "fd8f4214-f78e-4d6c-bc9e-c49b88fc612d",
   "metadata": {},
   "outputs": [],
   "source": [
    "# Boolean operands have an order of operations, just like regular operands do. \n",
    "# The order is: not, and, \n",
    "a = False\n",
    "b = True\n",
    "c = False\n",
    "d = True"
   ]
  },
  {
   "cell_type": "code",
   "execution_count": 3,
   "id": "bbd62314-25cd-4d2f-a32d-b374878be9a8",
   "metadata": {},
   "outputs": [
    {
     "name": "stdout",
     "output_type": "stream",
     "text": [
      "Ex. 1: True\n",
      "Ex. 2: True\n",
      "Ex. 3: False\n",
      "\n",
      "Ex. 4: True\n",
      "Ex. 5: True\n",
      "Ex. 6: False\n",
      "\n",
      "Ex. 7: False\n",
      "Ex. 8: True\n",
      "Ex. 9: True\n",
      "Ex. 10: False\n",
      "\n",
      "Ex. 11: False\n",
      "Ex. 12: False\n"
     ]
    }
   ],
   "source": [
    "print(\"Ex. 1:\", not a or b)\n",
    "print(\"Ex. 2:\", (not a) or b) \n",
    "print(\"Ex. 3:\", not (a or b)) \n",
    "print()\n",
    "print(\"Ex. 4:\", b or a and c) \n",
    "print(\"Ex. 5:\", b or (a and c))\n",
    "print(\"Ex. 6:\", (b or a) and c)\n",
    "print()\n",
    "print(\"Ex. 7:\", b and d and c)\n",
    "print(\"Ex. 8:\", b and d and not c)\n",
    "print(\"Ex. 9:\", a or b or c)\n",
    "print(\"Ex. 10:\", a or not b or c)\n",
    "print()\n",
    "print(\"Ex. 11:\", a and not b or c)\n",
    "print(\"Ex. 12:\", c or not b and a)"
   ]
  },
  {
   "cell_type": "code",
   "execution_count": 4,
   "id": "04596113-8c35-465b-8975-afc66c506e16",
   "metadata": {},
   "outputs": [],
   "source": [
    "# The comparison operations can be used at the same time as the logic operations. \n",
    "# The comparison operations are after 'not,' but before 'and' in the order of operations. \n",
    "a = True\n",
    "b = False\n",
    "x = 4\n",
    "y = 6"
   ]
  },
  {
   "cell_type": "code",
   "execution_count": 5,
   "id": "5df6a5d5-30c6-4a06-8c38-2a31ee5ff306",
   "metadata": {},
   "outputs": [
    {
     "name": "stdout",
     "output_type": "stream",
     "text": [
      "Ex. 1: True\n",
      "Ex. 2: False\n",
      "Ex. 3: True\n",
      "Ex. 4: False\n",
      "Ex. 5: False\n",
      "Ex. 6: True\n"
     ]
    }
   ],
   "source": [
    "print(\"Ex. 1:\", a or b == False)\n",
    "print(\"Ex. 2:\", (a or b) == False)\n",
    "print(\"Ex. 3:\", x < y or x > 2)\n",
    "print(\"Ex. 4:\", x == y and x > 0)\n",
    "print(\"Ex. 5:\", x != y and x > 7)\n",
    "print(\"Ex. 6:\", not b and x > 1)"
   ]
  },
  {
   "cell_type": "code",
   "execution_count": null,
   "id": "9a97b4fa-e5b2-472e-886d-0e76e648b4e1",
   "metadata": {},
   "outputs": [],
   "source": []
  },
  {
   "cell_type": "markdown",
   "id": "cd02394d-7da7-485e-bbc4-35f39bf2030f",
   "metadata": {},
   "source": [
    "### Problem: 1"
   ]
  },
  {
   "cell_type": "code",
   "execution_count": 6,
   "id": "651aba78-9843-4122-b57f-12f198482c85",
   "metadata": {},
   "outputs": [
    {
     "name": "stdout",
     "output_type": "stream",
     "text": [
      "8 is even.\n",
      "3 is odd.\n",
      "12 is even.\n"
     ]
    }
   ],
   "source": [
    "# Compute whether an integer is even.\n",
    "\n",
    "###################################################\n",
    "# Is even formula\n",
    "# Student should enter function on the next lines.\n",
    "def is_even(number):\n",
    "    '''\n",
    "    This function returns if a number is even or not.\n",
    "    It takes a parameter number which is an integer.\n",
    "    ------------\n",
    "    parameter:\n",
    "    number: int\n",
    "    ------------\n",
    "    return: bool\n",
    "    '''\n",
    "    return number % 2 == 0\n",
    "\n",
    "\n",
    "###################################################\n",
    "# Tests\n",
    "# Student should not change this code.\n",
    "\n",
    "def test(number):\n",
    "\t\"\"\"Tests the is_even function.\"\"\"\n",
    "\tif is_even(number):\n",
    "\t\tprint(number, \"is even.\")\n",
    "\telse:\n",
    "\t\tprint(number, \"is odd.\")\n",
    "\n",
    "test(8)\n",
    "test(3)\n",
    "test(12)\n",
    "\n",
    "###################################################\n",
    "# Expected output\n",
    "# Student should look at the following comments and compare to printed output.\n",
    "\n",
    "#8 is even.\n",
    "#3 is odd.\n",
    "#12 is even.\n"
   ]
  },
  {
   "cell_type": "code",
   "execution_count": null,
   "id": "de4d1d56-c62c-44ab-93d5-8b64c1ed1c12",
   "metadata": {},
   "outputs": [],
   "source": []
  },
  {
   "cell_type": "markdown",
   "id": "648fb957-80bf-4778-bcb4-7c950d62762d",
   "metadata": {},
   "source": [
    "### Problem: 2"
   ]
  },
  {
   "cell_type": "code",
   "execution_count": 8,
   "id": "9624d35a-5115-4e4a-9784-45e73fc169b9",
   "metadata": {},
   "outputs": [
    {
     "name": "stdout",
     "output_type": "stream",
     "text": [
      "Joe is cool.\n",
      "John is cool.\n",
      "Stephen is cool.\n",
      "Scott is not cool.\n"
     ]
    }
   ],
   "source": [
    "# Compute whether a person is cool.\n",
    "\n",
    "###################################################\n",
    "# Is cool formula\n",
    "# Student should enter function on the next lines.\n",
    "def is_cool(name):\n",
    "    '''\n",
    "    This function takes a name(string) and \n",
    "    returns if the person belonging to that name is cool or not.\n",
    "    -----\n",
    "    parameter-\n",
    "    name: str\n",
    "    -----\n",
    "    return: bool\n",
    "    '''\n",
    "    if name == 'Joe' or name == 'John' or name == 'Stephen':\n",
    "        return True\n",
    "    else:\n",
    "        return False\n",
    "\n",
    "\n",
    "###################################################\n",
    "# Tests\n",
    "# Student should not change this code.\n",
    "\n",
    "def test(name):\n",
    "\t\"\"\"Tests the is_cool function.\"\"\"\n",
    "\t\n",
    "\tif is_cool(name):\n",
    "\t\tprint( name, \"is cool.\")\n",
    "\telse:\n",
    "\t\tprint( name, \"is not cool.\")\n",
    "\n",
    "test(\"Joe\")\n",
    "test(\"John\")\n",
    "test(\"Stephen\")\n",
    "test(\"Scott\")\n",
    "\n",
    "###################################################\n",
    "# Expected output\n",
    "# Student should look at the following comments and compare to printed output.\n",
    "\n",
    "#Joe is cool.\n",
    "#John is cool.\n",
    "#Stephen is cool.\n",
    "#Scott is not cool.\n"
   ]
  },
  {
   "cell_type": "code",
   "execution_count": null,
   "id": "61660790-fee7-4cdb-b02e-0e9534d40360",
   "metadata": {},
   "outputs": [],
   "source": []
  },
  {
   "cell_type": "markdown",
   "id": "9e7b4203-d659-489d-ae17-0c27479ca8e9",
   "metadata": {},
   "source": [
    "### Problem: 3"
   ]
  },
  {
   "cell_type": "code",
   "execution_count": 17,
   "id": "5eba1526-07b7-4524-80d1-4c92c8a2d2c9",
   "metadata": {},
   "outputs": [
    {
     "name": "stdout",
     "output_type": "stream",
     "text": [
      "11 AM is lunchtime.\n",
      "12 AM is not lunchtime.\n",
      "11 PM is not lunchtime.\n",
      "12 PM is lunchtime.\n",
      "10 PM is not lunchtime.\n"
     ]
    }
   ],
   "source": [
    "# Compute whether the given time is lunchtime.\n",
    "\n",
    "###################################################\n",
    "# Is lunchtime formula\n",
    "# Student should enter function on the next lines.\n",
    "def is_lunchtime(hour, is_am):\n",
    "    if (11 <= hour < 12 and is_am) or (hour == 12 and not is_am):\n",
    "        return True\n",
    "    else:\n",
    "        return False\n",
    "\n",
    "\n",
    "###################################################\n",
    "# Tests\n",
    "# Student should not change this code.\n",
    "\n",
    "def test(hour, is_am):\n",
    "\t\"\"\"Tests the is_lunchtime function.\"\"\"\n",
    "\tprint(hour, end=\" \")\n",
    "\tif is_am:\n",
    "\t\tprint(\"AM\", end=\" \")\n",
    "\telse:\n",
    "\t\tprint(\"PM\", end =\" \")\n",
    "        \n",
    "\tif is_lunchtime(hour, is_am):\n",
    "\t\tprint (\"is lunchtime.\")\n",
    "\telse:\n",
    "\t\tprint (\"is not lunchtime.\")\n",
    "\n",
    "test(11, True)\n",
    "test(12, True)\n",
    "test(11, False)\n",
    "test(12, False)\n",
    "test(10, False)\n",
    "\n",
    "###################################################\n",
    "# Expected output\n",
    "# Student should look at the following comments and compare to printed output.\n",
    "\n",
    "#11 AM is lunchtime.\n",
    "#12 AM is not lunchtime.\n",
    "#11 PM is not lunchtime.\n",
    "#12 PM is lunchtime.\n",
    "#10 PM is not lunchtime.\n"
   ]
  },
  {
   "cell_type": "code",
   "execution_count": null,
   "id": "2c6f8eef-4f19-4fb3-bdd2-7596c0869dde",
   "metadata": {},
   "outputs": [],
   "source": []
  },
  {
   "cell_type": "markdown",
   "id": "cc21b2b1-1546-4503-b5b9-9326186365fb",
   "metadata": {},
   "source": [
    "### Problem: 4"
   ]
  },
  {
   "cell_type": "code",
   "execution_count": 22,
   "id": "e9f3a409-6d88-42ad-b39a-30d8203d1914",
   "metadata": {},
   "outputs": [
    {
     "name": "stdout",
     "output_type": "stream",
     "text": [
      "2000 is a leap year.\n",
      "1996 is a leap year.\n",
      "1800 is not a leap year.\n",
      "2013 is not a leap year.\n",
      "1888 is a leap year.\n",
      "1944 is a leap year.\n",
      "2024 is a leap year.\n",
      "2080 is a leap year.\n"
     ]
    }
   ],
   "source": [
    "# Compute whether the given year is a leap year.\n",
    "\n",
    "###################################################\n",
    "# Is leapyear formula\n",
    "# Student should enter function on the next lines.\n",
    "def is_leap_year(year):\n",
    "    '''\n",
    "    This function outputs if a year is leap year or not.\n",
    "    A year is a leap year if it's divisible by 400 or divisible by 4\n",
    "    But if a year is divisible by 100 and 4 but not divisible by 400, then it's not a leap year\n",
    "    ----\n",
    "    parameter:\n",
    "    year: int\n",
    "    ----\n",
    "    return: bool\n",
    "    '''\n",
    "    if year % 100 == 0:\n",
    "        if year % 400 !=0:\n",
    "            return False\n",
    "        elif year % 400 == 0:\n",
    "            return True\n",
    "    elif year % 4 == 0:\n",
    "        return True\n",
    "\n",
    "###################################################\n",
    "# Tests\n",
    "# Student should not change this code.\n",
    "\n",
    "def test(year):\n",
    "\t\"\"\"Tests the is_leapyear function.\"\"\"\n",
    "\tif is_leap_year(year):\n",
    "\t\tprint( year, \"is a leap year.\")\n",
    "\telse:\n",
    "\t\tprint (year, \"is not a leap year.\")\n",
    "\n",
    "test(2000)\n",
    "test(1996)\n",
    "test(1800)\n",
    "test(2013)\n",
    "test(1888)\n",
    "test(1944)\n",
    "test(2024)\n",
    "test(2080)\n",
    "\n",
    "###################################################\n",
    "# Expected output\n",
    "# Student should look at the following comments and compare to printed output.\n",
    "\n",
    "#2000 is a leap year.\n",
    "#1996 is a leap year.\n",
    "#1800 is not a leap year.\n",
    "#2013 is not a leap year.\n",
    "#1888 is a leap year.\n",
    "#1944 is a leap year.\n",
    "#2024 is a leap year.\n",
    "#2080 is a leap year.\n"
   ]
  },
  {
   "cell_type": "code",
   "execution_count": null,
   "id": "ff274a20-4b05-436b-8150-8acfff266636",
   "metadata": {},
   "outputs": [],
   "source": []
  },
  {
   "cell_type": "markdown",
   "id": "bd96727d-d264-46a9-9010-7736e5b1c117",
   "metadata": {},
   "source": [
    "### Practice: 5"
   ]
  },
  {
   "cell_type": "code",
   "execution_count": 29,
   "id": "1bdcb27f-cdbe-4280-a0a2-0cfea6ee2b63",
   "metadata": {},
   "outputs": [
    {
     "name": "stdout",
     "output_type": "stream",
     "text": [
      "Intervals [0, 1] and [1, 2] intersect.\n",
      "Intervals [1, 2] and [0, 1] intersect.\n",
      "Intervals [0, 1] and [2, 3] do not intersect.\n",
      "Intervals [2, 3] and [0, 1] do not intersect.\n",
      "Intervals [0, 3] and [1, 2] intersect.\n",
      "Intervals [2, 5] and [3, 7] intersect.\n",
      "Intervals [1, 4] and [5, 8] do not intersect.\n"
     ]
    }
   ],
   "source": [
    "# Compute whether two intervals intersect.\n",
    "\n",
    "###################################################\n",
    "# Interval intersection formula\n",
    "# Student should enter function on the next lines.\n",
    "def interval_intersect(a, b, c, d):\n",
    "    '''\n",
    "    this function outputs if there's is an interval intersection between two points.\n",
    "    if max(a,c) <= min(b,d) then there's an overlap, otherwise there is no intersection.\n",
    "    ---\n",
    "    parameters:\n",
    "    a,b,c,d: int\n",
    "    ---\n",
    "    return: bool\n",
    "    '''\n",
    "    max_ac = max(a,c)\n",
    "    min_bd = min(b,d)\n",
    "    if max_ac <= min_bd:\n",
    "        return True\n",
    "    else:\n",
    "        return False\n",
    "\n",
    "###################################################\n",
    "# Tests\n",
    "# Student should not change this code.\n",
    "\n",
    "def test(a, b, c, d):\n",
    "    \"\"\"Tests the interval_intersect function.\"\"\"\n",
    "    print( \"Intervals [\" + str(a) + \", \" + str(b) + \"] and [\" + str(c) + \", \" + str(d) + \"]\", end=\" \")\n",
    "    if interval_intersect(a, b, c, d):\n",
    "        print (\"intersect.\")\n",
    "    else:\n",
    "        print (\"do not intersect.\")\n",
    "\n",
    "test(0, 1, 1, 2)\n",
    "test(1, 2, 0, 1)\n",
    "test(0, 1, 2, 3)\n",
    "test(2, 3, 0, 1)\n",
    "test(0, 3, 1, 2)\n",
    "test(2, 5, 3, 7)\n",
    "test(1, 4, 5, 8)\n",
    "\n",
    "\n",
    "###################################################\n",
    "# Expected output\n",
    "# Student should look at the following comments and compare to printed output.\n",
    "\n",
    "#Intervals [0, 1] and [1, 2] intersect.\n",
    "#Intervals [1, 2] and [0, 1] intersect.\n",
    "#Intervals [0, 1] and [2, 3] do not intersect.\n",
    "#Intervals [2, 3] and [0, 1] do not intersect.\n",
    "#Intervals [0, 3] and [1, 2] intersect.\n",
    "#Intervals [2, 5] and [3, 7] intersect.\n",
    "#Intervals [1, 4] and [5, 8] do not intersect."
   ]
  },
  {
   "cell_type": "code",
   "execution_count": null,
   "id": "6514beb8-6f1e-49c4-8d1b-d6e0ccd757f4",
   "metadata": {},
   "outputs": [],
   "source": []
  },
  {
   "cell_type": "markdown",
   "id": "9630459b-e7a0-4978-83b8-7dd5883d2322",
   "metadata": {},
   "source": [
    "### Practice 6:"
   ]
  },
  {
   "cell_type": "code",
   "execution_count": 30,
   "id": "bdd59882-7da8-4969-924f-81009af14839",
   "metadata": {},
   "outputs": [
    {
     "name": "stdout",
     "output_type": "stream",
     "text": [
      "Joe Warren is 52 years old.\n",
      "Scott Rixner is 40 years old.\n",
      "Error: Invalid age\n"
     ]
    }
   ],
   "source": [
    "# Compute the statement about a person's name and age, given the person's name and age.\n",
    "\n",
    "###################################################\n",
    "# Name and age formula\n",
    "# Student should enter function on the next lines.\n",
    "def name_and_age(name, age):\n",
    "    if age < 0:\n",
    "        return f\"Error: Invalid age\"\n",
    "    else:\n",
    "        return f\"{name} is {age} years old.\"\n",
    "\n",
    "###################################################\n",
    "# Tests\n",
    "# Student should not change this code.\n",
    "\n",
    "def test(name, age):\n",
    "\t\"\"\"Tests the name_and_age function.\"\"\"\n",
    "\t\n",
    "\tprint(name_and_age(name, age))\n",
    "\t\n",
    "test(\"Joe Warren\", 52)\n",
    "test(\"Scott Rixner\", 40)\n",
    "test(\"John Greiner\", -46)\n",
    "\n",
    "\n",
    "###################################################\n",
    "# Expected output\n",
    "# Student should look at the following comments and compare to printed output.\n",
    "\n",
    "#Joe Warren is 52 years old.\n",
    "#Scott Rixner is 40 years old.\n",
    "#Error: Invalid age\n"
   ]
  },
  {
   "cell_type": "code",
   "execution_count": null,
   "id": "3626de03-276e-4173-9a4f-c3f785380f5c",
   "metadata": {},
   "outputs": [],
   "source": []
  },
  {
   "cell_type": "markdown",
   "id": "26de2c1f-acab-42ad-ba6c-8aa90e956ffd",
   "metadata": {},
   "source": [
    "### Practice 7"
   ]
  },
  {
   "cell_type": "code",
   "execution_count": 32,
   "id": "059c2315-bf17-436b-affc-4b7028745ba6",
   "metadata": {},
   "outputs": [
    {
     "name": "stdout",
     "output_type": "stream",
     "text": [
      "The tens digit is 4, and the ones digit is 2.\n",
      "The tens digit is 9, and the ones digit is 9.\n",
      "The tens digit is 0, and the ones digit is 5.\n",
      "Error: Input is not a two-digit number.\n"
     ]
    }
   ],
   "source": [
    "# Compute and print tens and ones digit of an integer in [0,100).\n",
    "\n",
    "###################################################\n",
    "# Digits function\n",
    "# Student should enter function on the next lines.\n",
    "def print_digits(number):\n",
    "    if number < 0 or number >= 100:\n",
    "        print(f\"Error: Input is not a two-digit number.\")\n",
    "    else:\n",
    "        tens = number // 10\n",
    "        ones = number % 10\n",
    "        print(f\"The tens digit is {tens}, and the ones digit is {ones}.\")\n",
    "\n",
    "\t\n",
    "###################################################\n",
    "# Tests\n",
    "# Student should not change this code.\n",
    "\t\n",
    "print_digits(42)\n",
    "print_digits(99)\n",
    "print_digits(5)\n",
    "print_digits(459)\n",
    "\n",
    "\n",
    "###################################################\n",
    "# Expected output\n",
    "# Student should look at the following comments and compare to printed output.\n",
    "\n",
    "#The tens digit is 4, and the ones digit is 2.\n",
    "#The tens digit is 9, and the ones digit is 9.\n",
    "#The tens digit is 0, and the ones digit is 5.\n",
    "#Error: Input is not a two-digit number.\n"
   ]
  },
  {
   "cell_type": "code",
   "execution_count": null,
   "id": "0aaa29ea-9a5b-4fc7-8320-0b5bee3c4f5f",
   "metadata": {},
   "outputs": [],
   "source": []
  },
  {
   "cell_type": "markdown",
   "id": "1925648f-2dac-4899-a9d1-cdf641a3a272",
   "metadata": {},
   "source": [
    "### Practice 8"
   ]
  },
  {
   "cell_type": "code",
   "execution_count": 33,
   "id": "e19222af-4e9b-4e12-9f03-cf7b4339b225",
   "metadata": {},
   "outputs": [
    {
     "name": "stdout",
     "output_type": "stream",
     "text": [
      "Warren\n",
      "Rixner\n",
      "Greiner\n",
      "Wong\n",
      "Error: Not an instructor\n"
     ]
    }
   ],
   "source": [
    "# Compute instructor's last name, given the first name.\n",
    "\n",
    "###################################################\n",
    "# Name lookup formula\n",
    "# Student should enter function on the next lines.\n",
    "def name_lookup(first_name):\n",
    "    if first_name == 'Joe':\n",
    "        return \"Warren\"\n",
    "    elif first_name == 'Scott':\n",
    "        return \"Rixner\"\n",
    "    elif first_name == 'John':\n",
    "        return \"Greiner\"\n",
    "    elif first_name == 'Stephen':\n",
    "        return \"Wong\"\n",
    "    else:\n",
    "        return \"Error: Not an instructor\"\n",
    "\n",
    "\n",
    "###################################################\n",
    "# Tests\n",
    "# Student should not change this code.\n",
    "\n",
    "def test(first_name):\n",
    "\t\"\"\"Tests the name_lookup function.\"\"\"\n",
    "\t\n",
    "\tprint(name_lookup(first_name))\n",
    "\t\n",
    "test(\"Joe\")\n",
    "test(\"Scott\")\n",
    "test(\"John\")\n",
    "test(\"Stephen\")\n",
    "test(\"Mary\")\n",
    "\n",
    "\n",
    "###################################################\n",
    "# Expected output\n",
    "# Student should look at the following comments and compare to printed output.\n",
    "\n",
    "#Warren\n",
    "#Rixner\n",
    "#Greiner\n",
    "#Wong\n",
    "#Error: Not an instructor\n"
   ]
  },
  {
   "cell_type": "code",
   "execution_count": null,
   "id": "449334bb-6803-41c0-8f11-ea5ec7f60a00",
   "metadata": {},
   "outputs": [],
   "source": []
  },
  {
   "cell_type": "markdown",
   "id": "ba700856-6759-4bec-9351-14974f12939d",
   "metadata": {},
   "source": [
    "### Practice 9"
   ]
  },
  {
   "cell_type": "code",
   "execution_count": 5,
   "id": "6efb3580-075f-41b1-afb6-0fe989641f81",
   "metadata": {},
   "outputs": [
    {
     "name": "stdout",
     "output_type": "stream",
     "text": [
      "igpay\n",
      "owlway\n",
      "ythonpay\n"
     ]
    }
   ],
   "source": [
    "# Compute a (simplified) Pig Latin version of a word.\n",
    "\n",
    "###################################################\n",
    "# Pig Latin formula\n",
    "def pig_latin(word):\n",
    "    \"\"\"Returns the (simplified) Pig Latin version of the word.\"\"\"\n",
    "    \n",
    "    first_letter = word[0]\n",
    "    rest_of_word = word[1 : ]\n",
    "    \n",
    "    # Student should complete function on the next lines.\n",
    "    if first_letter == \"a\" or first_letter == \"e\" or first_letter == \"i\" or first_letter == \"o\" or first_letter == \"u\":\n",
    "        return word + 'way'\n",
    "    else:\n",
    "        return rest_of_word + first_letter + 'ay'\n",
    "\n",
    "\n",
    "\n",
    "###################################################\n",
    "# Tests\n",
    "# Student should not change this code.\n",
    "\n",
    "def test(word):\n",
    "\t\"\"\"Tests the pig_latin function.\"\"\"\n",
    "\t\n",
    "\tprint(pig_latin(word))\n",
    "\t\n",
    "test(\"pig\")\n",
    "test(\"owl\")\n",
    "test(\"python\")\n",
    "\n",
    "\n",
    "###################################################\n",
    "# Expected output\n",
    "# Student should look at the following comments and compare to printed output.\n",
    "\n",
    "#igpay\n",
    "#owlway\n",
    "#ythonpay\n"
   ]
  },
  {
   "cell_type": "code",
   "execution_count": null,
   "id": "c4afbc15-556a-474a-b41f-28c78b72471e",
   "metadata": {},
   "outputs": [],
   "source": []
  },
  {
   "cell_type": "markdown",
   "id": "5358bd0b-db0b-44bc-9a36-9e57ec67640a",
   "metadata": {},
   "source": [
    "### Challenge 10"
   ]
  },
  {
   "cell_type": "code",
   "execution_count": 9,
   "id": "35c91f76-34d9-4a3f-b814-bb80dad429e2",
   "metadata": {},
   "outputs": [
    {
     "name": "stdout",
     "output_type": "stream",
     "text": [
      "The smaller root of 1x^2 + 2x + 3 is: Error: No real solutions\n",
      "None\n",
      "The smaller root of 2x^2 + 0x + -10 is: -2.23606797749979\n",
      "The smaller root of 6x^2 + -3x + 5 is: Error: No real solutions\n",
      "None\n"
     ]
    }
   ],
   "source": [
    "# Compute the smaller root of a quadratic equation.\n",
    "\n",
    "###################################################\n",
    "# Smaller quadratic root formula\n",
    "# Student should enter function on the next lines.\n",
    "import math\n",
    "def smaller_root(a,b,c):\n",
    "    discriminant = math.pow(b, 2) - 4 * a * c\n",
    "    if discriminant < 0 or a == 0:\n",
    "        print(\"Error: No real solutions\")\n",
    "        return \n",
    "    elif discriminant == 0:\n",
    "        x = (-b) / (2 * a)\n",
    "        return x\n",
    "    else:\n",
    "        x1 = ((-b) + math.sqrt(discriminant)) / (2 * a)\n",
    "        x2 = ((-b) - math.sqrt(discriminant)) / (2 * a)\n",
    "        smaller_solution = min(x1, x2)\n",
    "        return smaller_solution\n",
    "\n",
    "###################################################\n",
    "# Tests\n",
    "# Student should not change this code.\n",
    "\n",
    "def test(a, b, c):\n",
    "    \"\"\"Tests the smaller_root function.\"\"\"\n",
    "    \n",
    "    print (\"The smaller root of \" + str(a) + \"x^2 + \" + str(b) + \"x + \" + str(c) + \" is:\", end = \" \")\n",
    "    print (str(smaller_root(a, b, c)))\n",
    "        \n",
    "\n",
    "test(1, 2, 3)\n",
    "test(2, 0, -10)\n",
    "test(6, -3, 5)\n",
    "\n",
    "###################################################\n",
    "# Expected output\n",
    "# Student should look at the following comments and compare to printed output.\n",
    "\n",
    "#The smaller root of 1x^2 + 2x + 3 is:\n",
    "#Error: No real solutions\n",
    "#None\n",
    "#The smaller root of 2x^2 + 0x + -10 is:\n",
    "#-2.2360679775\n",
    "#The smaller root of 6x^2 + -3x + 5 is:\n",
    "#Error: No real solutions\n",
    "#None\n"
   ]
  },
  {
   "cell_type": "code",
   "execution_count": null,
   "id": "e5e7f37e-b134-4ed9-aecd-ef709bf4f764",
   "metadata": {},
   "outputs": [],
   "source": []
  },
  {
   "cell_type": "markdown",
   "id": "7005eeb1-6511-4c81-893c-e323386426f1",
   "metadata": {},
   "source": [
    "## Practice Mini-project: Mystical Octosphere"
   ]
  },
  {
   "cell_type": "code",
   "execution_count": 18,
   "id": "25e79196-f068-4056-b135-05f8b700eeb9",
   "metadata": {},
   "outputs": [
    {
     "name": "stdout",
     "output_type": "stream",
     "text": [
      "Your question was...Will I accomplish my goals?\n",
      "You shake the mystical octosphere.\n",
      "The cloudy liquid swirls, and a reply comes into view...\n",
      "The mystical octosphere says...Seems like yes...\n",
      "\n",
      "Your question was...Will I be a better person?\n",
      "You shake the mystical octosphere.\n",
      "The cloudy liquid swirls, and a reply comes into view...\n",
      "The mystical octosphere says...Not sure, check back later!\n",
      "\n"
     ]
    }
   ],
   "source": [
    "# Example Mini-Project:\n",
    "# THE MYSTICAL OCTOSPHERE! by Andrea Crain\n",
    "\n",
    "# This game is based on a common toy. It is a round black ball with a clear plastic window. \n",
    "# The ball is filled with murky blue liquid and you use it as a fortune teller. \n",
    "# You ask a yes-or-no question and shake the ball. \n",
    "# There is a white many-sided die inside with answers, and when you stop shaking, one of the sides\n",
    "# floats up and is readable against the window.\n",
    "\n",
    "# Here is a sample of the kind of output this program should produce:\n",
    "#\n",
    "# Your question was... Will I get rich?\n",
    "# You shake the mystical octosphere.\n",
    "# The cloudy liquid swirls, and a reply comes into view...\n",
    "# The mystical octosphere says... Probably yes.\n",
    "# \n",
    "# Your question was... Are the Cubs going to win the World Series?\n",
    "# You shake the mystical octosphere.\n",
    "# The cloudy liquid swirls, and a reply comes into view...\n",
    "# The mystical octosphere says... Probably not.\n",
    "#\n",
    "\n",
    "# Let's get started!\n",
    "\n",
    "# Up here, before everything else, import the random module\n",
    "import random\n",
    "# Type the command to import the random module above this line\n",
    "# and make sure it is not indented at all.\n",
    "\n",
    "# Next, fill in code for the function number_to_fortune\n",
    "# This is a helper function.\n",
    "# It should take in a number and send back a string\n",
    "# \n",
    "# The possible numbers are between 0 through 7 inclusive\n",
    "# (that means 0, 1, 2, 3, 4, 5, 6, or 7)\n",
    "# and each number should translate to a fortune\n",
    "# that would be the answer to a yes or no question.\n",
    "#\n",
    "# My suggested fortunes are:\n",
    "# 0 - Yes, for sure!\n",
    "# 1 - Probably yes.\n",
    "# 2 - Seems like yes...\n",
    "# 3 - Definitely not!\n",
    "# 4 - Probably not.\n",
    "# 5 - I really doubt it...\n",
    "# 6 - Not sure, check back later!\n",
    "# 7 - I really can't tell\n",
    "#\n",
    "# If somehow the function gets a number other than those 8\n",
    "# it should send back a string saying that\n",
    "# something was wrong with the input.\n",
    "\n",
    "def number_to_fortune(number):\n",
    "    # Fill in your code here.\n",
    "    # Use an if...elif...else statement\n",
    "    # to check each of the numbers between 0 and 7\n",
    "    # and return the fortune as a string.\n",
    "    if number == 0:\n",
    "        return \"Yes, for sure!\"\n",
    "    elif number == 1:\n",
    "        return \"Probably yes.\"\n",
    "    elif number == 2:\n",
    "        return \"Seems like yes...\"\n",
    "    elif number == 3:\n",
    "        return \"Definitely not!\"\n",
    "    elif number == 4:\n",
    "        return \"Probably not.\"\n",
    "    elif number == 5:\n",
    "        return \"I really doubt it...\"\n",
    "    elif number == 6:\n",
    "        return \"Not sure, check back later!\"\n",
    "    elif number == 7:\n",
    "        return \"I really can't tell\"\n",
    "    elif number > 7 or number < 0:\n",
    "        return \"Something was wrong with the input.\"\n",
    "\n",
    "\n",
    "    # Make sure all your code for the helper function is\n",
    "    # indented by at least four spaces   \n",
    "    \n",
    "# TEST SECTION...    \n",
    "# Uncomment this code to test if your number_to_fortune\n",
    "# helper function is working. Highlight it all\n",
    "# and hit control-shift-k to uncomment it all at once.\n",
    "# print()\n",
    "# print(number_to_fortune(0))\n",
    "# print(number_to_fortune(1))\n",
    "# print(number_to_fortune(2))\n",
    "# print(number_to_fortune(3))\n",
    "# print(number_to_fortune(4))\n",
    "# print(number_to_fortune(5))\n",
    "# print(number_to_fortune(6))\n",
    "# print(number_to_fortune(7))\n",
    "# print(number_to_fortune(19))\n",
    "# print()\n",
    "# When you're done testing, comment it again.\n",
    "# Highlight it all and hit control-k to comment it all at once\n",
    "    \n",
    "    \n",
    "# Now fill in code for your main function.\n",
    "# It must print the question out,\n",
    "# Print a line saying you shake the octosphere\n",
    "# Print out a line saying the liquid swirls and a reply comes into view\n",
    "# And print what the fortune was\n",
    "\n",
    "# Your question was... Will I get rich?\n",
    "# You shake the mystical octosphere.\n",
    "# The cloudy liquid swirls, and a reply comes into view...\n",
    "# The mystical octosphere says... Probably yes.\n",
    "def mystical_octosphere(question):\n",
    "    # Fill in your code below\n",
    "    \n",
    "    # Print a line including the original \n",
    "    # question to the console.    \n",
    "    print(f\"Your question was...{question}\")\n",
    "\n",
    "    # Print the line \"You shake the mystical octosphere.\"    \n",
    "    print(\"You shake the mystical octosphere.\")\n",
    "    \n",
    "    # Use randrange to put a random number between 0 and 7 \n",
    "    # into a variable called answer_number\n",
    "    answer_number = random.randrange(8)\n",
    "    \n",
    "    # Use the helper function to translate\n",
    "    # the number you just randomly selected\n",
    "    # into a fortune, and store it in a\n",
    "    # variable called answer_fortune\n",
    "    answer_fortune = number_to_fortune(answer_number)\n",
    "\n",
    "    # Build suspense by printing a line that says\n",
    "    # The cloudy liquid swirls, and a reply comes into view...\n",
    "    print(\"The cloudy liquid swirls, and a reply comes into view...\")\n",
    "    \n",
    "    # Print a line that says \n",
    "    # The mystical octosphere says...\n",
    "    # and the fortune you put into answer_fortune\n",
    "    print(f\"The mystical octosphere says...{answer_fortune}\")\n",
    "\n",
    "    # Print a blank line\n",
    "    print()\n",
    "    \n",
    "    # Make sure all your code for the main function\n",
    "    # is indented by at least four spaces\n",
    "    # (\"At least\" means it can be more than four but not less.)    \n",
    "\n",
    "# These lines runs your main function!\n",
    "# You can change the questions if you wish.\n",
    "# Only yes-or-no style questions will make sense.\n",
    "mystical_octosphere(\"Will I accomplish my goals?\")\n",
    "mystical_octosphere(\"Will I be a better person?\")"
   ]
  },
  {
   "cell_type": "code",
   "execution_count": null,
   "id": "843c71b1-6d4b-4f19-bf42-f395240097f7",
   "metadata": {},
   "outputs": [],
   "source": [
    "# 0 - Yes, for sure!\n",
    "# 1 - Probably yes.\n",
    "# 2 - Seems like yes...\n",
    "# 3 - Definitely not!\n",
    "# 4 - Probably not.\n",
    "# 5 - I really doubt it...\n",
    "# 6 - Not sure, check back later!\n",
    "# 7 - I really can't tell"
   ]
  },
  {
   "cell_type": "code",
   "execution_count": null,
   "id": "9dd8f73f-c8eb-4a02-a9e7-d600a5d177e4",
   "metadata": {},
   "outputs": [],
   "source": []
  },
  {
   "cell_type": "code",
   "execution_count": 1,
   "id": "895fa919-214b-48ab-aa04-d20a2cc71f23",
   "metadata": {},
   "outputs": [
    {
     "data": {
      "text/plain": [
       "2.0"
      ]
     },
     "execution_count": 1,
     "metadata": {},
     "output_type": "execute_result"
    }
   ],
   "source": [
    "n = 123\n",
    "((n - n % 10) / 10) % 10"
   ]
  },
  {
   "cell_type": "code",
   "execution_count": 2,
   "id": "3dc7d879-2d62-4141-8e13-f8f9cc4f2bd0",
   "metadata": {},
   "outputs": [
    {
     "data": {
      "text/plain": [
       "2.0"
      ]
     },
     "execution_count": 2,
     "metadata": {},
     "output_type": "execute_result"
    }
   ],
   "source": [
    "((n - n % 10) % 100) / 10"
   ]
  },
  {
   "cell_type": "code",
   "execution_count": 3,
   "id": "e9534536-561f-409a-a0cb-1a3412674798",
   "metadata": {},
   "outputs": [
    {
     "data": {
      "text/plain": [
       "2.0"
      ]
     },
     "execution_count": 3,
     "metadata": {},
     "output_type": "execute_result"
    }
   ],
   "source": [
    "(n % 100 - n % 10) / 10"
   ]
  },
  {
   "cell_type": "code",
   "execution_count": 4,
   "id": "1fb9bc66-1409-4859-9b06-2253489df0b9",
   "metadata": {},
   "outputs": [
    {
     "data": {
      "text/plain": [
       "23"
      ]
     },
     "execution_count": 4,
     "metadata": {},
     "output_type": "execute_result"
    }
   ],
   "source": [
    "n % 100"
   ]
  },
  {
   "cell_type": "code",
   "execution_count": 6,
   "id": "371ddf0d-2c0d-4635-a884-f5b303eaa05b",
   "metadata": {},
   "outputs": [
    {
     "name": "stdout",
     "output_type": "stream",
     "text": [
      "$1000 at 2% compounded daily for 3 years yields $ 1061.8348011259045\n"
     ]
    }
   ],
   "source": [
    "def future_value(present_value, annual_rate, periods_per_year, years):\n",
    "    rate_per_period = annual_rate / periods_per_year\n",
    "    periods = periods_per_year * years\n",
    "\n",
    "    # Put your code here.\n",
    "    fut_val = present_value * (1 + rate_per_period) ** periods\n",
    "    return fut_val\n",
    "\n",
    "print (\"$1000 at 2% compounded daily for 3 years yields $\", future_value(1000, .02, 365, 3))"
   ]
  },
  {
   "cell_type": "code",
   "execution_count": 7,
   "id": "733d4abb-3d29-483c-89f2-9270ab18b7a5",
   "metadata": {},
   "outputs": [
    {
     "name": "stdout",
     "output_type": "stream",
     "text": [
      "$1000 at 2% compounded daily for 3 years yields $ 745.3174428239327\n"
     ]
    }
   ],
   "source": [
    "print (\"$1000 at 2% compounded daily for 3 years yields $\", future_value(500, .04, 10, 10))"
   ]
  },
  {
   "cell_type": "code",
   "execution_count": 8,
   "id": "3d87ce72-db5f-47c0-9ab3-baa85d9db2a2",
   "metadata": {},
   "outputs": [],
   "source": [
    "def polygon_area(number_of_sides, side_length):\n",
    "    import math\n",
    "    return (number_of_sides * side_length**2) / (4 * math.tan(math.pi/number_of_sides))"
   ]
  },
  {
   "cell_type": "code",
   "execution_count": 9,
   "id": "ccf42516-c336-4fc1-81f8-8af3f820ebc8",
   "metadata": {},
   "outputs": [
    {
     "name": "stdout",
     "output_type": "stream",
     "text": [
      "84.30339262885938\n"
     ]
    }
   ],
   "source": [
    "print(polygon_area(5,7))"
   ]
  },
  {
   "cell_type": "code",
   "execution_count": 10,
   "id": "1b40aac3-ef01-431e-90e9-ca91bcc310fe",
   "metadata": {},
   "outputs": [
    {
     "name": "stdout",
     "output_type": "stream",
     "text": [
      "32.705211996014306\n"
     ]
    }
   ],
   "source": [
    "print(polygon_area(7,3))"
   ]
  },
  {
   "cell_type": "code",
   "execution_count": 12,
   "id": "662525a2-36e9-487c-9acc-cec7e6b70541",
   "metadata": {},
   "outputs": [
    {
     "name": "stdout",
     "output_type": "stream",
     "text": [
      "1.0988845115895123 3.846095790563293\n"
     ]
    }
   ],
   "source": [
    "def project_to_distance(point_x, point_y, distance):\n",
    "    import math\n",
    "    dist_to_origin = math.sqrt(point_x ** 2 + point_y ** 2)\n",
    "    scale = distance / dist_to_origin\n",
    "    print(point_x * scale, point_y * scale)\n",
    "\n",
    "project_to_distance(2, 7, 4)"
   ]
  },
  {
   "cell_type": "code",
   "execution_count": null,
   "id": "d340c9db-5872-453f-875b-04d128218cc3",
   "metadata": {},
   "outputs": [],
   "source": []
  }
 ],
 "metadata": {
  "kernelspec": {
   "display_name": "Python 3 (ipykernel)",
   "language": "python",
   "name": "python3"
  },
  "language_info": {
   "codemirror_mode": {
    "name": "ipython",
    "version": 3
   },
   "file_extension": ".py",
   "mimetype": "text/x-python",
   "name": "python",
   "nbconvert_exporter": "python",
   "pygments_lexer": "ipython3",
   "version": "3.12.9"
  }
 },
 "nbformat": 4,
 "nbformat_minor": 5
}
