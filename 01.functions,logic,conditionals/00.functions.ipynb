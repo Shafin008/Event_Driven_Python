{
 "cells": [
  {
   "cell_type": "markdown",
   "id": "3bc8b0c2-989e-4441-9246-fac68981af23",
   "metadata": {},
   "source": [
    "## Modular Arithmatic"
   ]
  },
  {
   "cell_type": "code",
   "execution_count": 8,
   "id": "ce1b9658-dc96-4d4d-9153-ed4950a9ded6",
   "metadata": {},
   "outputs": [],
   "source": [
    "def a_modulo_b(a,b):\n",
    "    return a - (b * math.floor(a/b))"
   ]
  },
  {
   "cell_type": "code",
   "execution_count": 1,
   "id": "fa8da580-b94d-412d-aa88-39c1b32c098f",
   "metadata": {},
   "outputs": [
    {
     "name": "stdout",
     "output_type": "stream",
     "text": [
      "4\n",
      "9\n",
      "49\n"
     ]
    }
   ],
   "source": [
    "# problem - get the ones digit of a number\n",
    "num = 49\n",
    "tens = num // 10\n",
    "ones = num % 10\n",
    "print(tens)\n",
    "print(ones)\n",
    "print(10*tens + 1*ones)"
   ]
  },
  {
   "cell_type": "code",
   "execution_count": 2,
   "id": "c4fa0305-ee29-4590-b9d3-a375d9c5e406",
   "metadata": {},
   "outputs": [
    {
     "name": "stdout",
     "output_type": "stream",
     "text": [
      "4\n"
     ]
    }
   ],
   "source": [
    "# application - 24 hour clock\n",
    "# http://en.wikipedia.org/wiki/24-hour_clock\n",
    "\n",
    "hour = 20\n",
    "shift = 8\n",
    "time = (hour + shift) % 24\n",
    "print(time)"
   ]
  },
  {
   "cell_type": "code",
   "execution_count": 3,
   "id": "5f26ac01-1db5-41b8-b210-d052b539181d",
   "metadata": {},
   "outputs": [
    {
     "name": "stdout",
     "output_type": "stream",
     "text": [
      "2\n"
     ]
    }
   ],
   "source": [
    "# application - screen wraparound\n",
    "# Spaceship from week seven\n",
    "\n",
    "width = 800\n",
    "position = 797\n",
    "move = 5\n",
    "position = (position + move) % width\n",
    "print(position)"
   ]
  },
  {
   "cell_type": "code",
   "execution_count": 4,
   "id": "0765f546-fecd-470e-8d43-a38e1cdce6f0",
   "metadata": {},
   "outputs": [
    {
     "name": "stdout",
     "output_type": "stream",
     "text": [
      "797\n"
     ]
    }
   ],
   "source": [
    "width = 800\n",
    "position = 2\n",
    "move = -5\n",
    "position = (position + move) % width\n",
    "print(position)"
   ]
  },
  {
   "cell_type": "code",
   "execution_count": 7,
   "id": "b8887280-3ecc-4d89-a823-94df2b241a27",
   "metadata": {},
   "outputs": [
    {
     "name": "stdout",
     "output_type": "stream",
     "text": [
      "Hello\n",
      "start None stop\n"
     ]
    }
   ],
   "source": [
    "def hello():\n",
    "    print('Hello')\n",
    "print('start', hello(), 'stop')"
   ]
  },
  {
   "cell_type": "code",
   "execution_count": 10,
   "id": "334a5a27-48ce-434b-961a-3713aa94c5b1",
   "metadata": {},
   "outputs": [],
   "source": [
    "import math"
   ]
  },
  {
   "cell_type": "code",
   "execution_count": 11,
   "id": "9bd54f74-abf9-4ed7-9aec-bfd11db6fd34",
   "metadata": {},
   "outputs": [
    {
     "data": {
      "text/plain": [
       "(1, -1)"
      ]
     },
     "execution_count": 11,
     "metadata": {},
     "output_type": "execute_result"
    }
   ],
   "source": [
    "math.ceil(.2), math.ceil(-1.4)"
   ]
  },
  {
   "cell_type": "code",
   "execution_count": 12,
   "id": "50381e23-9f55-4c11-b817-b99866f0e858",
   "metadata": {},
   "outputs": [
    {
     "data": {
      "text/plain": [
       "(4, -4)"
      ]
     },
     "execution_count": 12,
     "metadata": {},
     "output_type": "execute_result"
    }
   ],
   "source": [
    "math.floor(4.9999), math.floor(-3.2)"
   ]
  },
  {
   "cell_type": "code",
   "execution_count": 13,
   "id": "89afdc05-bf33-466c-83f3-21d00e27ca41",
   "metadata": {},
   "outputs": [
    {
     "data": {
      "text/plain": [
       "(81.0, 81)"
      ]
     },
     "execution_count": 13,
     "metadata": {},
     "output_type": "execute_result"
    }
   ],
   "source": [
    "math.pow(3, 4), 3 ** 4"
   ]
  },
  {
   "cell_type": "code",
   "execution_count": 14,
   "id": "580fd85b-75be-4da3-a942-cf2b482065df",
   "metadata": {},
   "outputs": [
    {
     "data": {
      "text/plain": [
       "(5.0, 5.0)"
      ]
     },
     "execution_count": 14,
     "metadata": {},
     "output_type": "execute_result"
    }
   ],
   "source": [
    "math.fabs(-5), math.fabs(5)"
   ]
  },
  {
   "cell_type": "code",
   "execution_count": 15,
   "id": "bdd3918e-1e81-430b-9a47-f7d8ed495f74",
   "metadata": {},
   "outputs": [
    {
     "data": {
      "text/plain": [
       "(3.0, 1.4142135623730951)"
      ]
     },
     "execution_count": 15,
     "metadata": {},
     "output_type": "execute_result"
    }
   ],
   "source": [
    "math.sqrt(9), math.sqrt(2) "
   ]
  },
  {
   "cell_type": "code",
   "execution_count": 16,
   "id": "a0339f57-8008-4aca-ae47-bd25b7ddf4a1",
   "metadata": {},
   "outputs": [
    {
     "data": {
      "text/plain": [
       "(0.0, -0.977530117665097)"
      ]
     },
     "execution_count": 16,
     "metadata": {},
     "output_type": "execute_result"
    }
   ],
   "source": [
    "math.sin(0), math.sin(4.5)"
   ]
  },
  {
   "cell_type": "code",
   "execution_count": 18,
   "id": "a1b02465-ad01-4df3-82da-afaef840e909",
   "metadata": {},
   "outputs": [],
   "source": [
    "import random"
   ]
  },
  {
   "cell_type": "code",
   "execution_count": 20,
   "id": "99e207e2-620c-4387-9ff1-098ade8ba1cf",
   "metadata": {},
   "outputs": [
    {
     "name": "stdout",
     "output_type": "stream",
     "text": [
      "7\n",
      "a\n"
     ]
    }
   ],
   "source": [
    "# random.choice(list)\n",
    "# Returns a random value from the list or a random character of a string\n",
    "print(random.choice([1,2,7,18,92]))\n",
    "print(random.choice([\"a\",\"b\",\"yes\",\"no\"]))"
   ]
  },
  {
   "cell_type": "code",
   "execution_count": 21,
   "id": "1d1552d2-1c03-4c31-9c75-0d575f007cc1",
   "metadata": {},
   "outputs": [
    {
     "name": "stdout",
     "output_type": "stream",
     "text": [
      "7\n",
      "-2\n"
     ]
    }
   ],
   "source": [
    "# random.randint(a, b)\n",
    "# Returns an int from a to b inclusive\n",
    "print(random.randint(1,10))\n",
    "print(random.randint(-5, 27))"
   ]
  },
  {
   "cell_type": "code",
   "execution_count": 23,
   "id": "cb7a1282-ae2d-4713-854b-6d2be3f80f72",
   "metadata": {},
   "outputs": [
    {
     "name": "stdout",
     "output_type": "stream",
     "text": [
      "5\n",
      "4\n",
      "15\n",
      "-7\n"
     ]
    }
   ],
   "source": [
    "# random.randrange([start], stop[, step])\n",
    "# Note: parameters in brackets are optional\n",
    "# Returns an integer from start (inclusive) to stop (not included), skipping numbers by step. \n",
    "# If step is not specified (only two parameters), it defaults to 1. \n",
    "# If start is also omitted (only one parameter), it defaults to 0.\n",
    "print(random.randrange(1, 9, 2))\n",
    "print(random.randrange(3, 10))\n",
    "print(random.randrange(20))\n",
    "print(random.randrange(-10, 0))"
   ]
  },
  {
   "cell_type": "code",
   "execution_count": 24,
   "id": "083aeb96-ca44-4b2d-b8fe-cd81cdc9d419",
   "metadata": {},
   "outputs": [
    {
     "data": {
      "text/plain": [
       "0.8160950890994426"
      ]
     },
     "execution_count": 24,
     "metadata": {},
     "output_type": "execute_result"
    }
   ],
   "source": [
    "# random.random()\n",
    "# Returns a random number between 0 and 1, including 0\n",
    "random.random()"
   ]
  },
  {
   "cell_type": "markdown",
   "id": "ff65811e-cb49-4936-8282-4d68869f24fa",
   "metadata": {},
   "source": [
    "## Practice Exercise"
   ]
  },
  {
   "cell_type": "markdown",
   "id": "615b0484-fc04-4ac0-a8c4-9c6d9497aca8",
   "metadata": {},
   "source": [
    "### Challenge 11"
   ]
  },
  {
   "cell_type": "code",
   "execution_count": 29,
   "id": "2f8e083c-50d8-4b48-ab2c-cc36b144602a",
   "metadata": {},
   "outputs": [],
   "source": [
    "def triangle_area(x0,y0,x1,y1,x2,y2):\n",
    "    a = ((x0-x1)**2 + (y0-y1)**2)**0.5\n",
    "    b = ((x2-x1)**2 + (y2-y1)**2)**0.5\n",
    "    c = ((x0-x2)**2 + (y0-y2)**2)**0.5\n",
    "\n",
    "    s = 0.5 * (a + b + c)\n",
    "\n",
    "    area = (s * (s-a) * (s-b) * (s-c))**0.5\n",
    "    return area"
   ]
  },
  {
   "cell_type": "code",
   "execution_count": 35,
   "id": "7338970f-cbd2-4ee1-a613-e880f7e4bfd5",
   "metadata": {},
   "outputs": [
    {
     "name": "stdout",
     "output_type": "stream",
     "text": [
      "A triangle with vertices (0, 0), (3, 4) and (1, 1) has an area of 0.5000000000000133.\n",
      "A triangle with vertices (-2, 4), (1, 6) and (2, 1) has an area of 8.5.\n",
      "A triangle with vertices (10, 0), (0, 0) and (0, 10) has an area of 50.0.\n"
     ]
    }
   ],
   "source": [
    "# Tests\n",
    "# Student should not change this code.\n",
    "\n",
    "def test(x0, y0, x1, y1, x2, y2):\n",
    "\t# print (\"A triangle with vertices (\" + str(x0) + \",\" + str(y0) + \"),\",)\n",
    "\t# print (\"(\" + str(x1) + \",\" + str(y1) + \"), and\",)\n",
    "\t# print (\"(\" + str(x2) + \",\" + str(y2) + \") has an area of\",)\n",
    "\t# print (str(triangle_area(x0, y0, x1, y1, x2, y2)) + \".\")\n",
    "\n",
    "    print(f\"A triangle with vertices ({x0}, {y0}), ({x1}, {y1}) and ({x2}, {y2}) has an area of {triangle_area(x0, y0, x1, y1, x2, y2)}.\")\n",
    "\n",
    "test(0, 0, 3, 4, 1, 1)\n",
    "test(-2, 4, 1, 6, 2, 1)\n",
    "test(10, 0, 0, 0, 0, 10)\n",
    "\n",
    "###################################################\n",
    "# Expected output\n",
    "# Student should look at the following comments and compare to printed output.\n",
    "\n",
    "#A triangle with vertices (0,0), (3,4), and (1,1) has an area of 0.5.\n",
    "#A triangle with vertices (-2,4), (1,6), and (2,1) has an area of 8.5.\n",
    "#A triangle with vertices (10,0), (0,0), and (0,10) has an area of 50."
   ]
  },
  {
   "cell_type": "code",
   "execution_count": null,
   "id": "de01cef3-b97f-4153-8f6d-f0eb6929eff7",
   "metadata": {},
   "outputs": [],
   "source": []
  },
  {
   "cell_type": "markdown",
   "id": "25c70249-6e23-4608-b59d-6f7f48563bae",
   "metadata": {},
   "source": [
    "### Challenge 12"
   ]
  },
  {
   "cell_type": "code",
   "execution_count": 36,
   "id": "a9a69de5-74fc-4016-b76d-910a1ec9894d",
   "metadata": {},
   "outputs": [
    {
     "name": "stdout",
     "output_type": "stream",
     "text": [
      "The tens digit is 4, and the ones digit is 2\n",
      "The tens digit is 9, and the ones digit is 9\n",
      "The tens digit is 0, and the ones digit is 5\n"
     ]
    }
   ],
   "source": [
    "# Compute and print tens and ones digit of an integer in [0,100).\n",
    "\n",
    "###################################################\n",
    "# Digits function\n",
    "# Student should enter function on the next lines.\n",
    "def print_digits(number):\n",
    "    tens = number // 10\n",
    "    ones = number % 10\n",
    "    print(f\"The tens digit is {tens}, and the ones digit is {ones}\")\n",
    "\n",
    "\t\n",
    "###################################################\n",
    "# Tests\n",
    "# Student should not change this code.\n",
    "\t\n",
    "print_digits(42)\n",
    "print_digits(99)\n",
    "print_digits(5)\n",
    "\n",
    "\n",
    "###################################################\n",
    "# Expected output\n",
    "# Student should look at the following comments and compare to printed output.\n",
    "\n",
    "#The tens digit is 4, and the ones digit is 2.\n",
    "#The tens digit is 9, and the ones digit is 9.\n",
    "#The tens digit is 0, and the ones digit is 5.\n"
   ]
  },
  {
   "cell_type": "code",
   "execution_count": null,
   "id": "49f61e35-b3df-416c-ba5c-fda52cb37bfe",
   "metadata": {},
   "outputs": [],
   "source": []
  },
  {
   "cell_type": "markdown",
   "id": "92d82267-c356-4799-93b0-7979e6ff1dc6",
   "metadata": {},
   "source": [
    "### Challenge 13"
   ]
  },
  {
   "cell_type": "code",
   "execution_count": 40,
   "id": "9004deda-5854-4bd0-b6c4-deafa422eb23",
   "metadata": {},
   "outputs": [
    {
     "name": "stdout",
     "output_type": "stream",
     "text": [
      "Today's numbers are 35, 30, 44, 20, 22. The Powerball number is 33\n",
      "Today's numbers are 29, 49, 24, 20, 44. The Powerball number is 7\n",
      "Today's numbers are 30, 2, 18, 2, 20. The Powerball number is 19\n"
     ]
    }
   ],
   "source": [
    "# Compute and print powerball numbers.\n",
    "\n",
    "###################################################\n",
    "# Powerball function\n",
    "# Student should enter function on the next lines.\n",
    "def powerball():\n",
    "    import random\n",
    "    ticket_num_1 = random.randrange(1,60)\n",
    "    ticket_num_2 = random.randrange(1,60)\n",
    "    ticket_num_3 = random.randrange(1,60)\n",
    "    ticket_num_4 = random.randrange(1,60)\n",
    "    ticket_num_5 = random.randrange(1,60)\n",
    "\n",
    "    powerball_num = random.randrange(1,36)\n",
    "    print(f\"Today's numbers are {ticket_num_1}, {ticket_num_2}, {ticket_num_3}, {ticket_num_4}, {ticket_num_5}. The Powerball number is {powerball_num}\")\n",
    "\n",
    "\t\n",
    "###################################################\n",
    "# Tests\n",
    "# Student should not change this code.\n",
    "\t\n",
    "powerball()\n",
    "powerball()\n",
    "powerball()\n"
   ]
  },
  {
   "cell_type": "code",
   "execution_count": null,
   "id": "522e6995-a670-48fd-8d4b-9c81570e77a7",
   "metadata": {},
   "outputs": [],
   "source": []
  },
  {
   "cell_type": "code",
   "execution_count": null,
   "id": "b39cb722-c9ed-4b20-8c07-fd2ffe977f43",
   "metadata": {},
   "outputs": [],
   "source": []
  }
 ],
 "metadata": {
  "kernelspec": {
   "display_name": "Python 3 (ipykernel)",
   "language": "python",
   "name": "python3"
  },
  "language_info": {
   "codemirror_mode": {
    "name": "ipython",
    "version": 3
   },
   "file_extension": ".py",
   "mimetype": "text/x-python",
   "name": "python",
   "nbconvert_exporter": "python",
   "pygments_lexer": "ipython3",
   "version": "3.12.9"
  }
 },
 "nbformat": 4,
 "nbformat_minor": 5
}
