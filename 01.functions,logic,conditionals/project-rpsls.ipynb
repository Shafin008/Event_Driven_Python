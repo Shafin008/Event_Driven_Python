{
 "cells": [
  {
   "cell_type": "code",
   "execution_count": 3,
   "id": "20055dd5-3511-4ba1-bbf7-092b9223c8f7",
   "metadata": {},
   "outputs": [
    {
     "name": "stdout",
     "output_type": "stream",
     "text": [
      "0\n",
      "1\n",
      "2\n",
      "3\n",
      "4\n"
     ]
    }
   ],
   "source": [
    "# Rock-paper-scissors-lizard-Spock template\n",
    "\n",
    "\n",
    "# The key idea of this program is to equate the strings\n",
    "# \"rock\", \"paper\", \"scissors\", \"lizard\", \"Spock\" to numbers\n",
    "# as follows:\n",
    "#\n",
    "# 0 - rock\n",
    "# 1 - Spock\n",
    "# 2 - paper\n",
    "# 3 - lizard\n",
    "# 4 - scissors\n",
    "\n",
    "# helper functions\n",
    "\n",
    "def name_to_number(name):\n",
    "    # convert name to number using if/elif/else\n",
    "    if name == \"rock\":\n",
    "        return 0\n",
    "    elif name == \"Spock\":\n",
    "        return 1\n",
    "\n",
    "    elif name == \"paper\":\n",
    "        return 2\n",
    "\n",
    "    elif name == \"lizard\":\n",
    "        return 3\n",
    "\n",
    "    elif name == \"scissors\":\n",
    "        return 4\n",
    "\n",
    "    else:\n",
    "        return \"Please Enter a Valid Choice from: rock-paper-scissors-lizard-Spock\"\n",
    "\n",
    "\n",
    "\n",
    "# Testing template for name_to_number()\n",
    "\n",
    "###################################################\n",
    "# Copy and paste your definition of name_to_number() here\n",
    "\n",
    "\n",
    "###################################################\n",
    "# Test calls to name_to_number()\n",
    "print(name_to_number(\"rock\"))\n",
    "print(name_to_number(\"Spock\"))\n",
    "print(name_to_number(\"paper\"))\n",
    "print(name_to_number(\"lizard\"))\n",
    "print(name_to_number(\"scissors\"))\n",
    "\n",
    "\n",
    "\n",
    "###################################################\n",
    "# Output to the console should have the form:\n",
    "# 0\n",
    "# 1\n",
    "# 2\n",
    "# 3\n",
    "# 4"
   ]
  },
  {
   "cell_type": "code",
   "execution_count": 4,
   "id": "6907b7dc-e04d-4c49-9912-17317d58c165",
   "metadata": {},
   "outputs": [
    {
     "name": "stdout",
     "output_type": "stream",
     "text": [
      "rock\n",
      "Spock\n",
      "paper\n",
      "lizard\n",
      "scissors\n"
     ]
    }
   ],
   "source": [
    "def number_to_name(number):\n",
    "    # convert number to a name using if/elif/else\n",
    "    if number == 0:\n",
    "        return 'rock'\n",
    "    elif number == 1:\n",
    "        return 'Spock'\n",
    "\n",
    "    elif number == 2:\n",
    "        return 'paper'\n",
    "\n",
    "    elif number == 3:\n",
    "        return 'lizard'\n",
    "\n",
    "    elif number == 4:\n",
    "        return 'scissors'\n",
    "\n",
    "    else:\n",
    "        return \"Please Enter a Valid Choice from: 1-2-3-4\"\n",
    "    # don't forget to return the result!\n",
    "    \n",
    "\n",
    "# Testing template for number_to_name()\n",
    "\n",
    "###################################################\n",
    "# Copy and paste your definition of number_to_name() here\n",
    "\n",
    "\n",
    "\n",
    "###################################################\n",
    "# Test calls to number_to_name()\n",
    "print(number_to_name(0))\n",
    "print(number_to_name(1))\n",
    "print(number_to_name(2))\n",
    "print(number_to_name(3))\n",
    "print(number_to_name(4))\n",
    "\n",
    "\n",
    "\n",
    "###################################################\n",
    "# Output to the console should have the form:\n",
    "# rock\n",
    "# Spock\n",
    "# paper\n",
    "# lizard\n",
    "# scissors\n"
   ]
  },
  {
   "cell_type": "code",
   "execution_count": 7,
   "id": "74f3375d-830d-4b59-a92e-f1253dcafa79",
   "metadata": {},
   "outputs": [],
   "source": [
    "def rpsls(player_choice): \n",
    "    import random\n",
    "    # print a blank line to separate consecutive games\n",
    "    print()\n",
    "    # print out the message for the player's choice\n",
    "    print(f\"Player chooses {player_choice}\")\n",
    "    # convert the player's choice to player_number using the function name_to_number()\n",
    "    player_number = name_to_number(player_choice)\n",
    "    # compute random guess for comp_number using random.randrange()\n",
    "    comp_number = random.randrange(5)\n",
    "    # convert comp_number to comp_choice using the function number_to_name()\n",
    "    comp_choice = number_to_name(comp_number)\n",
    "    # print out the message for computer's choice\n",
    "    print(f\"Computer chooses {comp_choice}\")\n",
    "    # compute difference of comp_number and player_number modulo five\n",
    "    diff = comp_number - player_number\n",
    "    modulo_diff = diff % 5\n",
    "    # use if/elif/else to determine winner, print winner message\n",
    "    if modulo_diff == 0:\n",
    "        print(\"Player and Computer tie!\")\n",
    "    elif modulo_diff == 1 or modulo_diff == 2:\n",
    "        print(\"Computer Wins!\")\n",
    "    elif modulo_diff == 3 or modulo_diff == 4:\n",
    "        print(\"Player Wins!\")"
   ]
  },
  {
   "cell_type": "code",
   "execution_count": 14,
   "id": "7c3c2041-0f9e-42c5-bce7-f46a505a2e39",
   "metadata": {},
   "outputs": [
    {
     "name": "stdout",
     "output_type": "stream",
     "text": [
      "\n",
      "Player chooses rock\n",
      "Computer chooses Spock\n",
      "Computer Wins!\n",
      "\n",
      "Player chooses Spock\n",
      "Computer chooses rock\n",
      "Player Wins!\n",
      "\n",
      "Player chooses paper\n",
      "Computer chooses lizard\n",
      "Computer Wins!\n",
      "\n",
      "Player chooses lizard\n",
      "Computer chooses scissors\n",
      "Computer Wins!\n",
      "\n",
      "Player chooses scissors\n",
      "Computer chooses scissors\n",
      "Player and Computer tie!\n"
     ]
    }
   ],
   "source": [
    "# test your code - THESE CALLS MUST BE PRESENT IN YOUR SUBMITTED CODE\n",
    "rpsls(\"rock\")\n",
    "rpsls(\"Spock\")\n",
    "rpsls(\"paper\")\n",
    "rpsls(\"lizard\")\n",
    "rpsls(\"scissors\")\n",
    "\n",
    "# always remember to check your completed program against the grading rubric\n"
   ]
  },
  {
   "cell_type": "code",
   "execution_count": 6,
   "id": "1a8630b7-bda1-407c-af20-c20750e1c1b4",
   "metadata": {},
   "outputs": [
    {
     "data": {
      "text/plain": [
       "3"
      ]
     },
     "execution_count": 6,
     "metadata": {},
     "output_type": "execute_result"
    }
   ],
   "source": [
    "'''\n",
    "Scissors cuts paper\n",
    "Paper covers rock\n",
    "Rock crushes lizard\n",
    "Lizard poisons Spock\n",
    "Spock smashes scissors\n",
    "Scissors decapitates lizard\n",
    "Lizard eats paper\n",
    "Paper disproves Spock\n",
    "Spock vaporizes rock\n",
    "And as it always has been\n",
    "Rock crushes scissors\n",
    "'''"
   ]
  },
  {
   "cell_type": "code",
   "execution_count": 12,
   "id": "3380f28a-ea9a-425e-9921-a66beadb7b4a",
   "metadata": {},
   "outputs": [
    {
     "data": {
      "text/plain": [
       "4"
      ]
     },
     "execution_count": 12,
     "metadata": {},
     "output_type": "execute_result"
    }
   ],
   "source": []
  },
  {
   "cell_type": "code",
   "execution_count": 13,
   "id": "6eb66a4d-d12e-4995-a08f-83bdd0ede08f",
   "metadata": {},
   "outputs": [
    {
     "data": {
      "text/plain": [
       "1"
      ]
     },
     "execution_count": 13,
     "metadata": {},
     "output_type": "execute_result"
    }
   ],
   "source": [
    "-4%5"
   ]
  },
  {
   "cell_type": "code",
   "execution_count": null,
   "id": "c1d497e0-e438-4396-b552-7248376e5d96",
   "metadata": {},
   "outputs": [],
   "source": []
  },
  {
   "cell_type": "code",
   "execution_count": null,
   "id": "f15f1c39-0276-4085-b072-933d364eb607",
   "metadata": {},
   "outputs": [],
   "source": []
  },
  {
   "cell_type": "code",
   "execution_count": null,
   "id": "ae586bec-995d-4b23-b554-304c421c65b6",
   "metadata": {},
   "outputs": [],
   "source": []
  },
  {
   "cell_type": "code",
   "execution_count": null,
   "id": "f1ec2743-5137-44d7-b9e7-b5bea695dbcd",
   "metadata": {},
   "outputs": [],
   "source": []
  },
  {
   "cell_type": "code",
   "execution_count": null,
   "id": "bde74f4f-fd19-4152-aa38-716cb56aa2e0",
   "metadata": {},
   "outputs": [],
   "source": []
  },
  {
   "cell_type": "code",
   "execution_count": null,
   "id": "4a147858-a356-450e-9bf6-af66a190df6c",
   "metadata": {},
   "outputs": [],
   "source": []
  }
 ],
 "metadata": {
  "kernelspec": {
   "display_name": "Python 3 (ipykernel)",
   "language": "python",
   "name": "python3"
  },
  "language_info": {
   "codemirror_mode": {
    "name": "ipython",
    "version": 3
   },
   "file_extension": ".py",
   "mimetype": "text/x-python",
   "name": "python",
   "nbconvert_exporter": "python",
   "pygments_lexer": "ipython3",
   "version": "3.12.9"
  }
 },
 "nbformat": 4,
 "nbformat_minor": 5
}
