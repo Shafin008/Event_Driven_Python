{
 "cells": [
  {
   "cell_type": "code",
   "execution_count": null,
   "id": "06c32899-999d-44da-9d63-459b15bab1a3",
   "metadata": {},
   "outputs": [],
   "source": [
    "# Example Mini-Project:\n",
    "# THE MYSTICAL OCTOSPHERE! - Andrea Crain\n",
    "\n",
    "# Type-your-question version\n",
    "\n",
    "# Before starting this practice mini-project,\n",
    "# make sure you've done the week 1 version of the\n",
    "# Mystical Octosphere. In that version, you had to\n",
    "# enter your questions into the code at the bottom.\n",
    "\n",
    "# In week 2 of the class, though, we want to allow\n",
    "# people to enter their question into an input\n",
    "# box. It will still display the output in the\n",
    "# console and use all the same logic as last week.\n",
    "\n",
    "# Believe it or not, we can do this by adding just \n",
    "# three lines of code!\n",
    "\n",
    "# Let's get started!\n",
    "\n",
    "# In addition to the random module, we also need to import\n",
    "# the simplegui module now. That's the library that\n",
    "# can make a window pop up with an input box.\n",
    "import random\n",
    "\n",
    "import simpleguitk as simplegui\n",
    "# Type the command to import the simplegui module above this line\n",
    "\n",
    "# and make sure it is not indented at all.\n",
    "\n",
    "# You do not need to change the function number_to_fortune\n",
    "def number_to_fortune(number):\n",
    "    if number == 0:\n",
    "        return \"Yes, for sure!\"\n",
    "    elif number == 1:\n",
    "        return \"Probably yes.\"\n",
    "    elif number == 2:\n",
    "        return \"Seems like yes...\"\n",
    "    elif number == 3:\n",
    "        return \"Definitely not!\"\n",
    "    elif number == 4:\n",
    "        return \"Probably not.\"\n",
    "    elif number == 5:\n",
    "        return \"I really doubt it...\"\n",
    "    elif number == 6:\n",
    "        return \"Not sure, check back later!\"\n",
    "    elif number == 7:\n",
    "        return \"I really can't tell.\"\n",
    "    else:\n",
    "        return \"Something was wrong with my input.\"\n",
    "\n",
    "# You do not need to change the main function either!\n",
    "def mystical_octosphere(question):\n",
    "    print(\"Your question was... \" + question)\n",
    "    print(\"You shake the mystical octosphere.\")\n",
    "    answer_number = random.randrange(0, 8)\n",
    "    answer_fortune = number_to_fortune(answer_number)\n",
    "    print(\"The cloudy liquid swirls, and a reply comes into view...\")\n",
    "    print(\"The mystical octosphere says... \" + answer_fortune)   \n",
    "    print()\n",
    "\n",
    "# Here's where we need to add some code.\n",
    "\n",
    "# In the previous version, we typed lines here\n",
    "# to run the main function with a question.\n",
    "# Like this:\n",
    "\n",
    "# mystical_octosphere(\"Will I get rich?\")\n",
    "# mystical_octosphere(\"Are the Cubs going to win the World Series?\")\n",
    "\n",
    "# Instead of that, we now want a SimpleGUI frame (a popup window)\n",
    "# with an input box to appear\n",
    "# that the person can type their question into.\n",
    "\n",
    "# The syntax to create a frame is:\n",
    "# simplegui.create_frame(title, canvas_width, canvas_height)\n",
    "\n",
    "# Create a SimpleGUI frame object here \n",
    "# with the title \"Mystical Octosphere\", a canvas\n",
    "# width of 50, and a canvas height of 100.\n",
    "# Save the frame that's created in a variable called frame.\n",
    "title = \"Mystical Octosphere\"\n",
    "width = 50\n",
    "height = 100\n",
    "frame = simplegui.create_frame(title, width, height)\n",
    "\n",
    "# That sounds complicated but it is just one line of code.\n",
    "# For an example, look at line 22 of the default\n",
    "# program that comes up when you open a new \n",
    "# window at codeskulptor.org\n",
    "# Make sure the line is not indented at all.\n",
    "\n",
    "\n",
    "# Now add an input field to the frame you made.\n",
    "\n",
    "# The syntax to create an input field is:\n",
    "# frame.add_input(label, input_handler, width)\n",
    "\n",
    "# Make the label be \"What is your question?\".\n",
    "# The input_handler is the function that will\n",
    "# do something with the question, so that should \n",
    "# be mystical_octosphere. Make the width be 200.\n",
    "\n",
    "\n",
    "\n",
    "# That's it! You're done!"
   ]
  },
  {
   "cell_type": "code",
   "execution_count": null,
   "id": "39e618b9-d389-41ba-ab08-13602ca010c4",
   "metadata": {},
   "outputs": [],
   "source": []
  },
  {
   "cell_type": "code",
   "execution_count": 4,
   "id": "afe7b2d3-a3af-46f7-b4c7-d908dae0173a",
   "metadata": {},
   "outputs": [],
   "source": [
    "import math"
   ]
  },
  {
   "cell_type": "code",
   "execution_count": 8,
   "id": "4de23b7a-4a2d-4796-8ea7-d9919cf32bf4",
   "metadata": {},
   "outputs": [
    {
     "data": {
      "text/plain": [
       "10"
      ]
     },
     "execution_count": 8,
     "metadata": {},
     "output_type": "execute_result"
    }
   ],
   "source": [
    "low = 0\n",
    "high = 1000\n",
    "n = math.ceil(math.log(high-low+1)/(math.log(2)))\n",
    "n"
   ]
  },
  {
   "cell_type": "code",
   "execution_count": null,
   "id": "b4d902ac-2d0c-4f53-8931-33f4b1a0b5c3",
   "metadata": {},
   "outputs": [],
   "source": []
  },
  {
   "cell_type": "code",
   "execution_count": 92,
   "id": "41736246-450c-43e9-a752-fb0c8cfa631b",
   "metadata": {},
   "outputs": [
    {
     "data": {
      "text/plain": [
       "False"
      ]
     },
     "execution_count": 92,
     "metadata": {},
     "output_type": "execute_result"
    }
   ],
   "source": [
    "n = '11.23'\n",
    "n.isnumeric()"
   ]
  },
  {
   "cell_type": "code",
   "execution_count": 99,
   "id": "4d56b8ce-e8c1-455a-864f-ac1cb3635616",
   "metadata": {},
   "outputs": [],
   "source": [
    "def sum_numbers(n):\n",
    "    if n == 0:\n",
    "        return 0\n",
    "    return n + sum_numbers(n-1)  "
   ]
  },
  {
   "cell_type": "code",
   "execution_count": 100,
   "id": "b1c6d8e4-35c8-4c0e-8cec-790d868c1257",
   "metadata": {},
   "outputs": [
    {
     "data": {
      "text/plain": [
       "15"
      ]
     },
     "execution_count": 100,
     "metadata": {},
     "output_type": "execute_result"
    }
   ],
   "source": [
    "s = sum_numbers(5)  # 5 + 4 + 3 + 2 + 1 = 15\n",
    "s"
   ]
  },
  {
   "cell_type": "code",
   "execution_count": 113,
   "id": "704d29e2-d831-4743-bf2c-c4e0a688959e",
   "metadata": {},
   "outputs": [
    {
     "data": {
      "text/plain": [
       "'olleh'"
      ]
     },
     "execution_count": 113,
     "metadata": {},
     "output_type": "execute_result"
    }
   ],
   "source": [
    "s = 'hello'\n",
    "s[::-1]"
   ]
  },
  {
   "cell_type": "code",
   "execution_count": 141,
   "id": "a61156c7-3268-4291-b6d9-e3fee90ea10d",
   "metadata": {},
   "outputs": [],
   "source": [
    "def reverse_string(s):\n",
    "    if len(s) == 0:\n",
    "        print(\"1\", s)\n",
    "        return s\n",
    "    print(\"2\",s)\n",
    "    return s[-1] + reverse_string(s[:-1])\n",
    "    "
   ]
  },
  {
   "cell_type": "code",
   "execution_count": 142,
   "id": "c46b694c-5495-4e4c-9e1e-eb685fdcefe1",
   "metadata": {},
   "outputs": [
    {
     "name": "stdout",
     "output_type": "stream",
     "text": [
      "2 hello\n",
      "2 hell\n",
      "2 hel\n",
      "2 he\n",
      "2 h\n",
      "1 \n"
     ]
    },
    {
     "data": {
      "text/plain": [
       "'olleh'"
      ]
     },
     "execution_count": 142,
     "metadata": {},
     "output_type": "execute_result"
    }
   ],
   "source": [
    "reverse_string(\"hello\")  # Output: \"olleh\""
   ]
  },
  {
   "cell_type": "code",
   "execution_count": null,
   "id": "8b4a7ca3-95e6-4408-bd8e-fadaea2993dc",
   "metadata": {},
   "outputs": [],
   "source": []
  }
 ],
 "metadata": {
  "kernelspec": {
   "display_name": "Python 3 (ipykernel)",
   "language": "python",
   "name": "python3"
  },
  "language_info": {
   "codemirror_mode": {
    "name": "ipython",
    "version": 3
   },
   "file_extension": ".py",
   "mimetype": "text/x-python",
   "name": "python",
   "nbconvert_exporter": "python",
   "pygments_lexer": "ipython3",
   "version": "3.12.9"
  }
 },
 "nbformat": 4,
 "nbformat_minor": 5
}
