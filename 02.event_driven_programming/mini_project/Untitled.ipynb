{
 "cells": [
  {
   "cell_type": "code",
   "execution_count": null,
   "id": "06c32899-999d-44da-9d63-459b15bab1a3",
   "metadata": {},
   "outputs": [],
   "source": [
    "# Example Mini-Project:\n",
    "# THE MYSTICAL OCTOSPHERE! - Andrea Crain\n",
    "\n",
    "# Type-your-question version\n",
    "\n",
    "# Before starting this practice mini-project,\n",
    "# make sure you've done the week 1 version of the\n",
    "# Mystical Octosphere. In that version, you had to\n",
    "# enter your questions into the code at the bottom.\n",
    "\n",
    "# In week 2 of the class, though, we want to allow\n",
    "# people to enter their question into an input\n",
    "# box. It will still display the output in the\n",
    "# console and use all the same logic as last week.\n",
    "\n",
    "# Believe it or not, we can do this by adding just \n",
    "# three lines of code!\n",
    "\n",
    "# Let's get started!\n",
    "\n",
    "# In addition to the random module, we also need to import\n",
    "# the simplegui module now. That's the library that\n",
    "# can make a window pop up with an input box.\n",
    "import random\n",
    "\n",
    "import simpleguitk as simplegui\n",
    "# Type the command to import the simplegui module above this line\n",
    "\n",
    "# and make sure it is not indented at all.\n",
    "\n",
    "# You do not need to change the function number_to_fortune\n",
    "def number_to_fortune(number):\n",
    "    if number == 0:\n",
    "        return \"Yes, for sure!\"\n",
    "    elif number == 1:\n",
    "        return \"Probably yes.\"\n",
    "    elif number == 2:\n",
    "        return \"Seems like yes...\"\n",
    "    elif number == 3:\n",
    "        return \"Definitely not!\"\n",
    "    elif number == 4:\n",
    "        return \"Probably not.\"\n",
    "    elif number == 5:\n",
    "        return \"I really doubt it...\"\n",
    "    elif number == 6:\n",
    "        return \"Not sure, check back later!\"\n",
    "    elif number == 7:\n",
    "        return \"I really can't tell.\"\n",
    "    else:\n",
    "        return \"Something was wrong with my input.\"\n",
    "\n",
    "# You do not need to change the main function either!\n",
    "def mystical_octosphere(question):\n",
    "    print(\"Your question was... \" + question)\n",
    "    print(\"You shake the mystical octosphere.\")\n",
    "    answer_number = random.randrange(0, 8)\n",
    "    answer_fortune = number_to_fortune(answer_number)\n",
    "    print(\"The cloudy liquid swirls, and a reply comes into view...\")\n",
    "    print(\"The mystical octosphere says... \" + answer_fortune)   \n",
    "    print()\n",
    "\n",
    "# Here's where we need to add some code.\n",
    "\n",
    "# In the previous version, we typed lines here\n",
    "# to run the main function with a question.\n",
    "# Like this:\n",
    "\n",
    "# mystical_octosphere(\"Will I get rich?\")\n",
    "# mystical_octosphere(\"Are the Cubs going to win the World Series?\")\n",
    "\n",
    "# Instead of that, we now want a SimpleGUI frame (a popup window)\n",
    "# with an input box to appear\n",
    "# that the person can type their question into.\n",
    "\n",
    "# The syntax to create a frame is:\n",
    "# simplegui.create_frame(title, canvas_width, canvas_height)\n",
    "\n",
    "# Create a SimpleGUI frame object here \n",
    "# with the title \"Mystical Octosphere\", a canvas\n",
    "# width of 50, and a canvas height of 100.\n",
    "# Save the frame that's created in a variable called frame.\n",
    "title = \"Mystical Octosphere\"\n",
    "width = 50\n",
    "height = 100\n",
    "frame = simplegui.create_frame(title, width, height)\n",
    "\n",
    "# That sounds complicated but it is just one line of code.\n",
    "# For an example, look at line 22 of the default\n",
    "# program that comes up when you open a new \n",
    "# window at codeskulptor.org\n",
    "# Make sure the line is not indented at all.\n",
    "\n",
    "\n",
    "# Now add an input field to the frame you made.\n",
    "\n",
    "# The syntax to create an input field is:\n",
    "# frame.add_input(label, input_handler, width)\n",
    "\n",
    "# Make the label be \"What is your question?\".\n",
    "# The input_handler is the function that will\n",
    "# do something with the question, so that should \n",
    "# be mystical_octosphere. Make the width be 200.\n",
    "\n",
    "\n",
    "\n",
    "# That's it! You're done!"
   ]
  },
  {
   "cell_type": "code",
   "execution_count": null,
   "id": "39e618b9-d389-41ba-ab08-13602ca010c4",
   "metadata": {},
   "outputs": [],
   "source": []
  },
  {
   "cell_type": "code",
   "execution_count": 4,
   "id": "afe7b2d3-a3af-46f7-b4c7-d908dae0173a",
   "metadata": {},
   "outputs": [],
   "source": [
    "import math"
   ]
  },
  {
   "cell_type": "code",
   "execution_count": 8,
   "id": "4de23b7a-4a2d-4796-8ea7-d9919cf32bf4",
   "metadata": {},
   "outputs": [
    {
     "data": {
      "text/plain": [
       "10"
      ]
     },
     "execution_count": 8,
     "metadata": {},
     "output_type": "execute_result"
    }
   ],
   "source": [
    "low = 0\n",
    "high = 1000\n",
    "n = math.ceil(math.log(high-low+1)/(math.log(2)))\n",
    "n"
   ]
  },
  {
   "cell_type": "code",
   "execution_count": null,
   "id": "60178f62-3c2f-4597-9a25-008896181fbb",
   "metadata": {},
   "outputs": [],
   "source": []
  },
  {
   "cell_type": "code",
   "execution_count": null,
   "id": "b1394a8f-f677-41e5-a428-cc7dcef029cb",
   "metadata": {},
   "outputs": [],
   "source": []
  }
 ],
 "metadata": {
  "kernelspec": {
   "display_name": "Python 3 (ipykernel)",
   "language": "python",
   "name": "python3"
  },
  "language_info": {
   "codemirror_mode": {
    "name": "ipython",
    "version": 3
   },
   "file_extension": ".py",
   "mimetype": "text/x-python",
   "name": "python",
   "nbconvert_exporter": "python",
   "pygments_lexer": "ipython3",
   "version": "3.12.9"
  }
 },
 "nbformat": 4,
 "nbformat_minor": 5
}
