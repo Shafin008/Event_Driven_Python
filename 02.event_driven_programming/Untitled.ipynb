{
 "cells": [
  {
   "cell_type": "code",
   "execution_count": 3,
   "id": "3af225ec-6d94-4a3b-a9ae-e5bf92a1bb35",
   "metadata": {},
   "outputs": [],
   "source": [
    "# Example of a simple event-driven program\n",
    "import simpleguitk as simplegui"
   ]
  },
  {
   "cell_type": "code",
   "execution_count": 2,
   "id": "0fd3e055-0660-4936-bbb2-bc789ceaf63a",
   "metadata": {
    "scrolled": true
   },
   "outputs": [],
   "source": [
    "# # Event handler\n",
    "# def tick():\n",
    "#     print( \"tick!\")\n",
    "\n",
    "# # Register handler\n",
    "# timer = simplegui.create_timer(1000, tick)\n",
    "\n",
    "# # Start timer\n",
    "# timer.start()"
   ]
  },
  {
   "cell_type": "code",
   "execution_count": 5,
   "id": "bda04cc2-9f58-4073-8014-c69b8db39242",
   "metadata": {},
   "outputs": [
    {
     "name": "stderr",
     "output_type": "stream",
     "text": [
      "invalid command name \"4421967552_draw_handler\"\n",
      "    while executing\n",
      "\"4421967552_draw_handler\"\n",
      "    (\"after\" script)\n"
     ]
    },
    {
     "ename": "SystemExit",
     "evalue": "0",
     "output_type": "error",
     "traceback": [
      "An exception has occurred, use %tb to see the full traceback.\n",
      "\u001b[0;31mSystemExit\u001b[0m\u001b[0;31m:\u001b[0m 0\n"
     ]
    }
   ],
   "source": [
    "message = \"Welcome!\"\n",
    "\n",
    "# Handler for mouse click\n",
    "def click():\n",
    "    global message\n",
    "    message = \"Good job!\"\n",
    "\n",
    "# Handler to draw on canvas\n",
    "def draw(canvas):\n",
    "    canvas.draw_text(message, [50,112], 36, \"Red\")\n",
    "\n",
    "# Create a frame and assign callbacks to event handlers\n",
    "frame = simplegui.create_frame(\"Home\", 300, 200)\n",
    "frame.add_button(\"Click me\", click)\n",
    "frame.set_draw_handler(draw)\n",
    "\n",
    "# Start the frame animation\n",
    "frame.start()"
   ]
  },
  {
   "cell_type": "code",
   "execution_count": null,
   "id": "739860ad-c675-4fb2-b924-2ac8b0cd145a",
   "metadata": {},
   "outputs": [],
   "source": []
  },
  {
   "cell_type": "code",
   "execution_count": 8,
   "id": "8441f5a1-125d-4819-8cee-e24ba97b3ede",
   "metadata": {},
   "outputs": [
    {
     "name": "stderr",
     "output_type": "stream",
     "text": [
      "invalid command name \"4560952704_draw_handler\"\n",
      "    while executing\n",
      "\"4560952704_draw_handler\"\n",
      "    (\"after\" script)\n"
     ]
    },
    {
     "ename": "SystemExit",
     "evalue": "0",
     "output_type": "error",
     "traceback": [
      "An exception has occurred, use %tb to see the full traceback.\n",
      "\u001b[0;31mSystemExit\u001b[0m\u001b[0;31m:\u001b[0m 0\n"
     ]
    },
    {
     "name": "stderr",
     "output_type": "stream",
     "text": [
      "/Users/shafinsaapel/tensorflow-test/env/lib/python3.12/site-packages/IPython/core/interactiveshell.py:3585: UserWarning: To exit: use 'exit', 'quit', or Ctrl-D.\n",
      "  warn(\"To exit: use 'exit', 'quit', or Ctrl-D.\", stacklevel=1)\n"
     ]
    }
   ],
   "source": [
    "# import\n",
    "import simpleguitk as simplegui\n",
    "\n",
    "# Define globals\n",
    "counter = 0\n",
    "\n",
    "# define helper funtions (no helper functions)\n",
    "# define class (no class)\n",
    "\n",
    "# define event handlers\n",
    "def click():\n",
    "    global counter\n",
    "    counter += 1\n",
    "    print(counter)\n",
    "def reset():\n",
    "    global counter\n",
    "    counter = 0\n",
    "\n",
    "# Create frame\n",
    "frame = simplegui.create_frame(\n",
    "    title=\"Simple Counter\",\n",
    "    canvas_width=300,\n",
    "    canvas_height=300,\n",
    "    control_width=200\n",
    ")\n",
    "\n",
    "# Register event handlers\n",
    "timer = simplegui.create_timer(interval=1000, timer_handler=click)\n",
    "frame.add_button(text='Reset', button_handler=reset)\n",
    "\n",
    "# start the frame and timer\n",
    "frame.start()\n",
    "timer.start()"
   ]
  },
  {
   "cell_type": "code",
   "execution_count": null,
   "id": "2b5692dd-a5ac-476e-9ada-57f2999a4799",
   "metadata": {},
   "outputs": [],
   "source": []
  },
  {
   "cell_type": "code",
   "execution_count": 2,
   "id": "80f53519-88bf-44f6-ab7e-d87c148a0501",
   "metadata": {},
   "outputs": [],
   "source": [
    "def f(p,q):\n",
    "    if p == False:\n",
    "        return False\n",
    "    elif q == False:\n",
    "        return False\n",
    "    else:\n",
    "        return True"
   ]
  },
  {
   "cell_type": "code",
   "execution_count": 3,
   "id": "94b5b3e3-288a-4642-86ba-bd6cc556dbdb",
   "metadata": {},
   "outputs": [],
   "source": [
    "def f1(p,q):\n",
    "    return not (not p or not q) "
   ]
  },
  {
   "cell_type": "code",
   "execution_count": 4,
   "id": "172db7ca-1a29-4cb4-a356-cd1d3b6ade42",
   "metadata": {},
   "outputs": [],
   "source": [
    "p = False\n",
    "q = False"
   ]
  },
  {
   "cell_type": "code",
   "execution_count": 5,
   "id": "5542af0b-2145-48dc-a6b8-0cee35756755",
   "metadata": {},
   "outputs": [
    {
     "data": {
      "text/plain": [
       "False"
      ]
     },
     "execution_count": 5,
     "metadata": {},
     "output_type": "execute_result"
    }
   ],
   "source": [
    "f(p,q)"
   ]
  },
  {
   "cell_type": "code",
   "execution_count": 6,
   "id": "5e37e5a2-1545-4f07-8e83-620ea39f50c9",
   "metadata": {},
   "outputs": [
    {
     "data": {
      "text/plain": [
       "False"
      ]
     },
     "execution_count": 6,
     "metadata": {},
     "output_type": "execute_result"
    }
   ],
   "source": [
    "f1(p,q)"
   ]
  },
  {
   "cell_type": "code",
   "execution_count": 9,
   "id": "5410e20b-84d5-405e-9e55-737bffceef92",
   "metadata": {},
   "outputs": [],
   "source": [
    "def f2(p,q):\n",
    "    return q and p"
   ]
  },
  {
   "cell_type": "code",
   "execution_count": 10,
   "id": "17893e06-b6ba-402a-b37f-ac4e7ea105cf",
   "metadata": {},
   "outputs": [
    {
     "data": {
      "text/plain": [
       "False"
      ]
     },
     "execution_count": 10,
     "metadata": {},
     "output_type": "execute_result"
    }
   ],
   "source": [
    "f2(p,q)"
   ]
  },
  {
   "cell_type": "code",
   "execution_count": 11,
   "id": "f5c07406-f322-4028-9e59-4545801e2041",
   "metadata": {},
   "outputs": [
    {
     "data": {
      "text/plain": [
       "0.42857142857142855"
      ]
     },
     "execution_count": 11,
     "metadata": {},
     "output_type": "execute_result"
    }
   ],
   "source": [
    "3/7"
   ]
  },
  {
   "cell_type": "code",
   "execution_count": null,
   "id": "c8f36df8-b8b1-4bdf-9192-a081ebde1b5f",
   "metadata": {},
   "outputs": [],
   "source": []
  }
 ],
 "metadata": {
  "kernelspec": {
   "display_name": "Python 3 (ipykernel)",
   "language": "python",
   "name": "python3"
  },
  "language_info": {
   "codemirror_mode": {
    "name": "ipython",
    "version": 3
   },
   "file_extension": ".py",
   "mimetype": "text/x-python",
   "name": "python",
   "nbconvert_exporter": "python",
   "pygments_lexer": "ipython3",
   "version": "3.12.9"
  }
 },
 "nbformat": 4,
 "nbformat_minor": 5
}
